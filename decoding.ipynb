{
 "cells": [
  {
   "cell_type": "markdown",
   "id": "fd10f3c7-b558-4be5-a33e-8cb22026cfd1",
   "metadata": {},
   "source": [
    "# Training and evaluating decoding models with PyTorch\n",
    "\n",
    "This tutorial introduces a typical decoding framework for mapping brain activity onto stimulus features during natural language comprehension using PyTorch.\n",
    "\n",
    "The previous tutorial walked through extracting two types of linguistic features: syntactic features and language model word embeddings. The podcast-ecog dataset comes with several other feature spaces as well. For this tutorial, we will use the LLM contextual embeddings. Decoding models map brain activity onto these features. Here, we use PyTorch to train deep learning decoding models.\n",
    "\n",
    "Acknowledgments: This tutorial draws heavily on the encling tutorial by Samuel A. Nastase."
   ]
  },
  {
   "cell_type": "code",
   "execution_count": null,
   "id": "9a79fc41-71ea-4d15-b4ad-d671b8d57cd1",
   "metadata": {},
   "outputs": [],
   "source": [
    "# only run this cell in colab\n",
    "!pip install torch torchvision torchaudio --index-url https://download.pytorch.org/whl/cu124\n",
    "!pip install mne mne_bids himalaya scikit-learn pandas matplotlib nilearn"
   ]
  },
  {
   "cell_type": "code",
   "execution_count": 64,
   "id": "ebbca40a-2c26-4d60-91ef-945496f1448a",
   "metadata": {},
   "outputs": [],
   "source": [
    "import mne\n",
    "import h5py\n",
    "import torch\n",
    "import numpy as np\n",
    "import pandas as pd\n",
    "import matplotlib.pyplot as plt\n",
    "from torch.utils.data import DataLoader, TensorDataset, random_split\n",
    "import torch.nn as nn\n",
    "import torch.optim as optim\n",
    "from torch.nn import functional as F\n",
    "\n",
    "from nilearn.plotting import plot_markers\n",
    "from mne_bids import BIDSPath\n",
    "\n",
    "from himalaya.backend import set_backend, get_backend\n",
    "from himalaya.scoring import correlation_score\n",
    "\n",
    "from sklearn.model_selection import KFold\n",
    "from sklearn.preprocessing import StandardScaler\n",
    "from sklearn.decomposition import PCA"
   ]
  },
  {
   "cell_type": "markdown",
   "id": "d78b9e89-d211-470d-9e9a-0b2230b7edc6",
   "metadata": {},
   "source": [
    "We will set the Himalaya backend to torch_cuda so we can utilize a GPU for training, if available."
   ]
  },
  {
   "cell_type": "code",
   "execution_count": 3,
   "id": "d52bf550-5d37-4478-a98e-233b48688d46",
   "metadata": {},
   "outputs": [
    {
     "name": "stdout",
     "output_type": "stream",
     "text": [
      "Using CPU\n"
     ]
    }
   ],
   "source": [
    "if torch.cuda.is_available():\n",
    "    set_backend(\"torch_cuda\")\n",
    "    device = torch.device(\"cuda\")\n",
    "    print(\"Using cuda!\")\n",
    "else:\n",
    "    device = torch.device(\"cpu\")\n",
    "    print(\"Using CPU\")"
   ]
  },
  {
   "cell_type": "markdown",
   "id": "f3b31dd4-39be-424d-92ad-15f7c6394e86",
   "metadata": {},
   "source": [
    "## Loading features\n",
    "\n",
    "We will now load two contextual word embeddings from GPT-2 (Radford et al., 2019). The loaded features should be a numpy array with a shape of (number of tokens * feature dimensions). Note that the numbers of tokens are different for the two features because of different tokenization schemas."
   ]
  },
  {
   "cell_type": "code",
   "execution_count": 5,
   "id": "e1c36cb0-2375-4fa2-9635-40e06bde4771",
   "metadata": {},
   "outputs": [
    {
     "name": "stdout",
     "output_type": "stream",
     "text": [
      "Using embedding file path: features.hdf5\n"
     ]
    }
   ],
   "source": [
    "# bids_root = \"\"  # if using a local dataset, set this variable accordingly\n",
    "\n",
    "# # Download the embedding, if required\n",
    "# embedding_path = f\"{bids_root}stimuli/gpt2-xl/features.hdf5\"\n",
    "# if not len(bids_root):\n",
    "#     !wget -nc https://s3.amazonaws.com/openneuro.org/ds005574/$embedding_path\n",
    "#     embedding_path = \"features.hdf5\"\n",
    "embedding_path = \"features.hdf5\"\n",
    "\n",
    "print(f\"Using embedding file path: {embedding_path}\")"
   ]
  },
  {
   "cell_type": "code",
   "execution_count": 6,
   "id": "6adaf69d-5e84-46bf-82c8-2e4f26cf52a3",
   "metadata": {},
   "outputs": [
    {
     "name": "stdout",
     "output_type": "stream",
     "text": [
      "LLM embedding matrix has shape: (5491, 1600)\n"
     ]
    }
   ],
   "source": [
    "modelname, layer = 'gpt2-xl', 24\n",
    "with h5py.File(embedding_path, \"r\") as f:\n",
    "    contextual_embeddings = f[f\"layer-{layer}\"][...]\n",
    "print(f\"LLM embedding matrix has shape: {contextual_embeddings.shape}\")"
   ]
  },
  {
   "cell_type": "markdown",
   "id": "5f5f92b3-d33c-4782-83ee-c7e90555ca23",
   "metadata": {},
   "source": [
    "We will also load the stimuli transcripts associated with these features. Both transcripts should contain information about the word, token, start (onset), and end (offset). The contextual word embedding transcript should also include other prediction information extracted from GPT-2, like rank, probability, and entropy. For instance, we can calculate how accurate the model is in predicting the next token in the transcript based on the rank column, which are integers that represents the rank of the actual token in all the possible tokens of GPT-2.\n",
    "\n",
    "Note: Check that the transcript contains the same number of tokens as the features we loaded before."
   ]
  },
  {
   "cell_type": "code",
   "execution_count": 7,
   "id": "ef7b5698-5362-4aae-bdcb-582a382fb0b9",
   "metadata": {},
   "outputs": [
    {
     "name": "stdout",
     "output_type": "stream",
     "text": [
      "zsh:1: command not found: wget\n",
      "Model accuracy: 30.942%\n"
     ]
    },
    {
     "data": {
      "text/html": [
       "<div>\n",
       "<style scoped>\n",
       "    .dataframe tbody tr th:only-of-type {\n",
       "        vertical-align: middle;\n",
       "    }\n",
       "\n",
       "    .dataframe tbody tr th {\n",
       "        vertical-align: top;\n",
       "    }\n",
       "\n",
       "    .dataframe thead th {\n",
       "        text-align: right;\n",
       "    }\n",
       "</style>\n",
       "<table border=\"1\" class=\"dataframe\">\n",
       "  <thead>\n",
       "    <tr style=\"text-align: right;\">\n",
       "      <th></th>\n",
       "      <th>word_idx</th>\n",
       "      <th>word</th>\n",
       "      <th>start</th>\n",
       "      <th>end</th>\n",
       "      <th>hftoken</th>\n",
       "      <th>token_id</th>\n",
       "      <th>rank</th>\n",
       "      <th>true_prob</th>\n",
       "      <th>top_pred</th>\n",
       "      <th>entropy</th>\n",
       "    </tr>\n",
       "  </thead>\n",
       "  <tbody>\n",
       "    <tr>\n",
       "      <th>0</th>\n",
       "      <td>0</td>\n",
       "      <td>Act</td>\n",
       "      <td>3.710</td>\n",
       "      <td>3.790</td>\n",
       "      <td>ĠAct</td>\n",
       "      <td>2191</td>\n",
       "      <td>1644</td>\n",
       "      <td>0.000012</td>\n",
       "      <td>0</td>\n",
       "      <td>2.402717</td>\n",
       "    </tr>\n",
       "    <tr>\n",
       "      <th>1</th>\n",
       "      <td>1</td>\n",
       "      <td>one,</td>\n",
       "      <td>3.990</td>\n",
       "      <td>4.190</td>\n",
       "      <td>Ġone</td>\n",
       "      <td>530</td>\n",
       "      <td>92</td>\n",
       "      <td>0.000342</td>\n",
       "      <td>352</td>\n",
       "      <td>3.732053</td>\n",
       "    </tr>\n",
       "    <tr>\n",
       "      <th>2</th>\n",
       "      <td>1</td>\n",
       "      <td>one,</td>\n",
       "      <td>3.990</td>\n",
       "      <td>4.190</td>\n",
       "      <td>,</td>\n",
       "      <td>11</td>\n",
       "      <td>3</td>\n",
       "      <td>0.059520</td>\n",
       "      <td>25</td>\n",
       "      <td>4.259335</td>\n",
       "    </tr>\n",
       "    <tr>\n",
       "      <th>3</th>\n",
       "      <td>2</td>\n",
       "      <td>monkey</td>\n",
       "      <td>4.651</td>\n",
       "      <td>4.931</td>\n",
       "      <td>Ġmonkey</td>\n",
       "      <td>21657</td>\n",
       "      <td>4022</td>\n",
       "      <td>0.000018</td>\n",
       "      <td>3715</td>\n",
       "      <td>6.621269</td>\n",
       "    </tr>\n",
       "    <tr>\n",
       "      <th>4</th>\n",
       "      <td>3</td>\n",
       "      <td>in</td>\n",
       "      <td>4.951</td>\n",
       "      <td>5.011</td>\n",
       "      <td>Ġin</td>\n",
       "      <td>287</td>\n",
       "      <td>15</td>\n",
       "      <td>0.004237</td>\n",
       "      <td>0</td>\n",
       "      <td>4.444838</td>\n",
       "    </tr>\n",
       "  </tbody>\n",
       "</table>\n",
       "</div>"
      ],
      "text/plain": [
       "   word_idx    word  start    end  hftoken  token_id  rank  true_prob  \\\n",
       "0         0     Act  3.710  3.790     ĠAct      2191  1644   0.000012   \n",
       "1         1    one,  3.990  4.190     Ġone       530    92   0.000342   \n",
       "2         1    one,  3.990  4.190        ,        11     3   0.059520   \n",
       "3         2  monkey  4.651  4.931  Ġmonkey     21657  4022   0.000018   \n",
       "4         3      in  4.951  5.011      Ġin       287    15   0.004237   \n",
       "\n",
       "   top_pred   entropy  \n",
       "0         0  2.402717  \n",
       "1       352  3.732053  \n",
       "2        25  4.259335  \n",
       "3      3715  6.621269  \n",
       "4         0  4.444838  "
      ]
     },
     "execution_count": 7,
     "metadata": {},
     "output_type": "execute_result"
    }
   ],
   "source": [
    "# Download the transcript, if required\n",
    "transcript_path = f\"{bids_root}stimuli/gpt2-xl/transcript.tsv\"\n",
    "if not len(bids_root):\n",
    "    !wget -nc https://s3.amazonaws.com/openneuro.org/ds005574/$transcript_path\n",
    "    transcript_path = \"transcript.tsv\"\n",
    "\n",
    "# Load transcript\n",
    "df_contextual = pd.read_csv(transcript_path, sep=\"\\t\", index_col=0)\n",
    "if \"rank\" in df_contextual.columns:\n",
    "    model_acc = (df_contextual[\"rank\"] == 0).mean()\n",
    "    print(f\"Model accuracy: {model_acc*100:.3f}%\")\n",
    "\n",
    "df_contextual.head()"
   ]
  },
  {
   "cell_type": "markdown",
   "id": "1430f412-1e5c-4862-b98a-72a84c8ddf3a",
   "metadata": {},
   "source": [
    "When we extracted features, some words are split into separate tokens. Since we only have information of start and end for words, we will align the features from tokens to words for decoding models. Here, we simply average the token features across the same word. Now the features should be a numpy array with a shape of (number of words * feature dimensions)."
   ]
  },
  {
   "cell_type": "code",
   "execution_count": 8,
   "id": "74798d02-1eb4-4860-8952-4e7a5439d0b9",
   "metadata": {},
   "outputs": [
    {
     "name": "stdout",
     "output_type": "stream",
     "text": [
      "LLM embeddings matrix has shape: (5136, 1600)\n"
     ]
    }
   ],
   "source": [
    "aligned_embeddings = []\n",
    "for _, group in df_contextual.groupby(\"word_idx\"): # group by word index\n",
    "    indices = group.index.to_numpy()\n",
    "    average_emb = contextual_embeddings[indices].mean(0) # average features\n",
    "    aligned_embeddings.append(average_emb)\n",
    "aligned_embeddings = np.stack(aligned_embeddings)\n",
    "print(f\"LLM embeddings matrix has shape: {aligned_embeddings.shape}\")"
   ]
  },
  {
   "cell_type": "markdown",
   "id": "8fa3ac4c-2e9b-4f5f-a6bd-5abee2065cf2",
   "metadata": {},
   "source": [
    "We will also construct a dataframe containing words with their start and end timestamps."
   ]
  },
  {
   "cell_type": "code",
   "execution_count": 9,
   "id": "f1dee81e-5ec3-41a8-a78a-7763486797f1",
   "metadata": {},
   "outputs": [
    {
     "data": {
      "text/html": [
       "<div>\n",
       "<style scoped>\n",
       "    .dataframe tbody tr th:only-of-type {\n",
       "        vertical-align: middle;\n",
       "    }\n",
       "\n",
       "    .dataframe tbody tr th {\n",
       "        vertical-align: top;\n",
       "    }\n",
       "\n",
       "    .dataframe thead th {\n",
       "        text-align: right;\n",
       "    }\n",
       "</style>\n",
       "<table border=\"1\" class=\"dataframe\">\n",
       "  <thead>\n",
       "    <tr style=\"text-align: right;\">\n",
       "      <th></th>\n",
       "      <th>word</th>\n",
       "      <th>start</th>\n",
       "      <th>end</th>\n",
       "    </tr>\n",
       "    <tr>\n",
       "      <th>word_idx</th>\n",
       "      <th></th>\n",
       "      <th></th>\n",
       "      <th></th>\n",
       "    </tr>\n",
       "  </thead>\n",
       "  <tbody>\n",
       "    <tr>\n",
       "      <th>0</th>\n",
       "      <td>Act</td>\n",
       "      <td>3.710</td>\n",
       "      <td>3.790</td>\n",
       "    </tr>\n",
       "    <tr>\n",
       "      <th>1</th>\n",
       "      <td>one,</td>\n",
       "      <td>3.990</td>\n",
       "      <td>4.190</td>\n",
       "    </tr>\n",
       "    <tr>\n",
       "      <th>2</th>\n",
       "      <td>monkey</td>\n",
       "      <td>4.651</td>\n",
       "      <td>4.931</td>\n",
       "    </tr>\n",
       "    <tr>\n",
       "      <th>3</th>\n",
       "      <td>in</td>\n",
       "      <td>4.951</td>\n",
       "      <td>5.011</td>\n",
       "    </tr>\n",
       "    <tr>\n",
       "      <th>4</th>\n",
       "      <td>the</td>\n",
       "      <td>5.051</td>\n",
       "      <td>5.111</td>\n",
       "    </tr>\n",
       "  </tbody>\n",
       "</table>\n",
       "</div>"
      ],
      "text/plain": [
       "            word  start    end\n",
       "word_idx                      \n",
       "0            Act  3.710  3.790\n",
       "1           one,  3.990  4.190\n",
       "2         monkey  4.651  4.931\n",
       "3             in  4.951  5.011\n",
       "4            the  5.051  5.111"
      ]
     },
     "execution_count": 9,
     "metadata": {},
     "output_type": "execute_result"
    }
   ],
   "source": [
    "df_word = df_contextual.groupby(\"word_idx\").agg(dict(word=\"first\", start=\"first\", end=\"last\"))\n",
    "df_word.head()"
   ]
  },
  {
   "cell_type": "markdown",
   "id": "0bfb64f0-c4df-463b-8822-e7939432369e",
   "metadata": {},
   "source": [
    "## Loading brain data\n",
    "\n",
    "Next, we will load the preprocessed high-gamma ECoG data using MNE. Here, we will demonstrate loading data from our third subject."
   ]
  },
  {
   "cell_type": "code",
   "execution_count": 99,
   "id": "0288c9c9-8fbc-4859-9e81-ec4ac4b7591f",
   "metadata": {},
   "outputs": [
    {
     "name": "stdout",
     "output_type": "stream",
     "text": [
      "File path within the dataset: derivatives/ecogprep/sub-03/ieeg/sub-03_task-podcast_desc-highgamma_ieeg.fif\n",
      "zsh:1: command not found: wget\n"
     ]
    },
    {
     "data": {
      "text/html": [
       "<script type=\"text/javascript\">\n",
       "    const toggleVisibility = (className) => {\n",
       "\n",
       "  const elements = document.querySelectorAll(`.${className}`)\n",
       "\n",
       "  elements.forEach(element => {\n",
       "    if (element.classList.contains('repr-section-header')) {\n",
       "      // Don't collapse the section header row.\n",
       "       return\n",
       "    }\n",
       "    if (element.classList.contains('repr-element-collapsed')) {\n",
       "      // Force a reflow to ensure the display change takes effect before removing the class\n",
       "      element.classList.remove('repr-element-collapsed')\n",
       "      element.offsetHeight // This forces the browser to recalculate layout\n",
       "      element.classList.remove('repr-element-faded')\n",
       "    } else {\n",
       "      // Start transition to hide the element\n",
       "      element.classList.add('repr-element-faded')\n",
       "      element.addEventListener('transitionend', handler = (e) => {\n",
       "        if (e.propertyName === 'opacity' && getComputedStyle(element).opacity === '0.2') {\n",
       "          element.classList.add('repr-element-collapsed')\n",
       "          element.removeEventListener('transitionend', handler)\n",
       "        }\n",
       "      });\n",
       "    }\n",
       "  });\n",
       "\n",
       "  // Take care of button (adjust caret)\n",
       "  const button = document.querySelectorAll(`.repr-section-header.${className} > th.repr-section-toggle-col > button`)[0]\n",
       "  button.classList.toggle('collapsed')\n",
       "\n",
       "  // Take care of the tooltip of the section header row\n",
       "  const sectionHeaderRow = document.querySelectorAll(`tr.repr-section-header.${className}`)[0]\n",
       "  sectionHeaderRow.classList.toggle('collapsed')\n",
       "  sectionHeaderRow.title = sectionHeaderRow.title === 'Hide section' ? 'Show section' : 'Hide section'\n",
       "}\n",
       "</script>\n",
       "\n",
       "<style type=\"text/css\">\n",
       "    table.repr.table.table-hover.table-striped.table-sm.table-responsive.small {\n",
       "  /* Don't make rows wider than they need to be. */\n",
       "  display: inline;\n",
       "}\n",
       "\n",
       "table > tbody > tr.repr-element > td {\n",
       "  /* Apply a tighter layout to the table cells. */\n",
       "  padding-top: 0.1rem;\n",
       "  padding-bottom: 0.1rem;\n",
       "  padding-right: 1rem;\n",
       "}\n",
       "\n",
       "table > tbody > tr > td.repr-section-toggle-col {\n",
       "  /* Remove background and border of the first cell in every row\n",
       "     (this row is only used for the collapse / uncollapse caret)\n",
       "\n",
       "     TODO: Need to find a good solution for VS Code that works in both\n",
       "           light and dark mode. */\n",
       "  border-color: transparent;\n",
       "  --bs-table-accent-bg: transparent;\n",
       "}\n",
       "\n",
       "tr.repr-section-header {\n",
       "  /* Remove stripes from section header rows */\n",
       "  background-color: transparent;\n",
       "  border-color: transparent;\n",
       "  --bs-table-striped-bg: transparent;\n",
       "  cursor: pointer;\n",
       "}\n",
       "\n",
       "tr.repr-section-header > th {\n",
       "  text-align: left !important;\n",
       "  vertical-align: middle;\n",
       "}\n",
       "\n",
       ".repr-element, tr.repr-element > td {\n",
       "  opacity: 1;\n",
       "  text-align: left !important;\n",
       "}\n",
       "\n",
       ".repr-element-faded {\n",
       "  transition: 0.3s ease;\n",
       "  opacity: 0.2;\n",
       "}\n",
       "\n",
       ".repr-element-collapsed {\n",
       "  display: none;\n",
       "}\n",
       "\n",
       "/* Collapse / uncollapse button and the caret it contains. */\n",
       ".repr-section-toggle-col button {\n",
       "  cursor: pointer;\n",
       "  width: 1rem;\n",
       "  background-color: transparent;\n",
       "  border-color: transparent;\n",
       "}\n",
       "\n",
       "span.collapse-uncollapse-caret {\n",
       "  width: 1rem;\n",
       "  height: 1rem;\n",
       "  display: block;\n",
       "  background-repeat: no-repeat;\n",
       "  background-position: left;\n",
       "  background-size: contain;\n",
       "}\n",
       "\n",
       "/* The collapse / uncollapse carets were copied from the free Font Awesome collection and adjusted. */\n",
       "\n",
       "/* Default to black carets for light mode */\n",
       ".repr-section-toggle-col > button.collapsed > span.collapse-uncollapse-caret {\n",
       "  background-image: url('data:image/svg+xml;charset=utf8,<svg xmlns=\"http://www.w3.org/2000/svg\" viewBox=\"0 0 256 512\"><!--!Font Awesome Free 6.5.2 by @fontawesome - https://fontawesome.com License - https://fontawesome.com/license/free Copyright 2024 Fonticons, Inc.--><path fill=\"black\" d=\"M246.6 278.6c12.5-12.5 12.5-32.8 0-45.3l-128-128c-9.2-9.2-22.9-11.9-34.9-6.9s-19.8 16.6-19.8 29.6l0 256c0 12.9 7.8 24.6 19.8 29.6s25.7 2.2 34.9-6.9l128-128z\"/></svg>');\n",
       "}\n",
       "\n",
       ".repr-section-toggle-col\n",
       "  > button:not(.collapsed)\n",
       "  > span.collapse-uncollapse-caret {\n",
       "  background-image: url('data:image/svg+xml;charset=utf8,<svg xmlns=\"http://www.w3.org/2000/svg\" viewBox=\"0 0 320 512\"><!--!Font Awesome Free 6.5.2 by @fontawesome - https://fontawesome.com License - https://fontawesome.com/license/free Copyright 2024 Fonticons, Inc.--><path fill=\"black\" d=\"M137.4 374.6c12.5 12.5 32.8 12.5 45.3 0l128-128c9.2-9.2 11.9-22.9 6.9-34.9s-16.6-19.8-29.6-19.8L32 192c-12.9 0-24.6 7.8-29.6 19.8s-2.2 25.7 6.9 34.9l128 128z\"/></svg>');\n",
       "}\n",
       "\n",
       "/* Use white carets for dark mode */\n",
       "@media (prefers-color-scheme: dark) {\n",
       "  .repr-section-toggle-col > button.collapsed > span.collapse-uncollapse-caret {\n",
       "    background-image: url('data:image/svg+xml;charset=utf8,<svg xmlns=\"http://www.w3.org/2000/svg\" viewBox=\"0 0 256 512\"><!--!Font Awesome Free 6.5.2 by @fontawesome - https://fontawesome.com License - https://fontawesome.com/license/free Copyright 2024 Fonticons, Inc.--><path fill=\"white\" d=\"M246.6 278.6c12.5-12.5 12.5-32.8 0-45.3l-128-128c-9.2-9.2-22.9-11.9-34.9-6.9s-19.8 16.6-19.8 29.6l0 256c0 12.9 7.8 24.6 19.8 29.6s25.7 2.2 34.9-6.9l128-128z\"/></svg>');\n",
       "  }\n",
       "\n",
       "  .repr-section-toggle-col\n",
       "    > button:not(.collapsed)\n",
       "    > span.collapse-uncollapse-caret {\n",
       "    background-image: url('data:image/svg+xml;charset=utf8,<svg xmlns=\"http://www.w3.org/2000/svg\" viewBox=\"0 0 320 512\"><!--!Font Awesome Free 6.5.2 by @fontawesome - https://fontawesome.com License - https://fontawesome.com/license/free Copyright 2024 Fonticons, Inc.--><path fill=\"white\" d=\"M137.4 374.6c12.5 12.5 32.8 12.5 45.3 0l128-128c9.2-9.2 11.9-22.9 6.9-34.9s-16.6-19.8-29.6-19.8L32 192c-12.9 0-24.6 7.8-29.6 19.8s-2.2 25.7 6.9 34.9l128 128z\"/></svg>');\n",
       "  }\n",
       "}\n",
       "\n",
       ".channel-names-btn {\n",
       "  padding: 0;\n",
       "  border: none;\n",
       "  background: none;\n",
       "  text-decoration: underline;\n",
       "  text-decoration-style: dashed;\n",
       "  cursor: pointer;\n",
       "  color: #0d6efd;\n",
       "}\n",
       "\n",
       ".channel-names-btn:hover {\n",
       "  color: #0a58ca;\n",
       "}\n",
       "</style>\n",
       "\n",
       "\n",
       "\n",
       "<table class=\"repr table table-hover table-striped table-sm table-responsive small\">\n",
       "    \n",
       "\n",
       "\n",
       "\n",
       "\n",
       "\n",
       "\n",
       "\n",
       "<tr class=\"repr-section-header general-ff121e40-5a5d-40d1-ab6e-1ec64bbda190\"  title=\"Hide section\" \n",
       "    onclick=\"toggleVisibility('general-ff121e40-5a5d-40d1-ab6e-1ec64bbda190')\">\n",
       "    <th class=\"repr-section-toggle-col\">\n",
       "        <button>\n",
       "            \n",
       "            <span class=\"collapse-uncollapse-caret\"></span>\n",
       "        </button>\n",
       "    </th>\n",
       "    <th colspan=\"2\">\n",
       "        <strong>General</strong>\n",
       "    </th>\n",
       "</tr>\n",
       "\n",
       "<tr class=\"repr-element general-ff121e40-5a5d-40d1-ab6e-1ec64bbda190 \">\n",
       "    <td class=\"repr-section-toggle-col\"></td>\n",
       "    <td>Filename(s)</td>\n",
       "    <td>\n",
       "        \n",
       "        sub-03_task-podcast_desc-highgamma_ieeg.fif\n",
       "        \n",
       "        \n",
       "    </td>\n",
       "</tr>\n",
       "\n",
       "<tr class=\"repr-element general-ff121e40-5a5d-40d1-ab6e-1ec64bbda190 \">\n",
       "    <td class=\"repr-section-toggle-col\"></td>\n",
       "    <td>MNE object type</td>\n",
       "    <td>Raw</td>\n",
       "</tr>\n",
       "<tr class=\"repr-element general-ff121e40-5a5d-40d1-ab6e-1ec64bbda190 \">\n",
       "    <td class=\"repr-section-toggle-col\"></td>\n",
       "    <td>Measurement date</td>\n",
       "    \n",
       "    <td>2019-03-11 at 10:54:21 UTC</td>\n",
       "    \n",
       "</tr>\n",
       "<tr class=\"repr-element general-ff121e40-5a5d-40d1-ab6e-1ec64bbda190 \">\n",
       "    <td class=\"repr-section-toggle-col\"></td>\n",
       "    <td>Participant</td>\n",
       "    \n",
       "    \n",
       "    <td>sub-03</td>\n",
       "    \n",
       "    \n",
       "</tr>\n",
       "<tr class=\"repr-element general-ff121e40-5a5d-40d1-ab6e-1ec64bbda190 \">\n",
       "    <td class=\"repr-section-toggle-col\"></td>\n",
       "    <td>Experimenter</td>\n",
       "    \n",
       "    <td>Unknown</td>\n",
       "    \n",
       "</tr>\n",
       "    \n",
       "\n",
       "\n",
       "\n",
       "\n",
       "\n",
       "\n",
       "\n",
       "<tr class=\"repr-section-header acquisition-c03e26dd-b5cd-4721-8706-4f0b6dce9363\" \n",
       "    title=\"Hide section\"  onclick=\"toggleVisibility('acquisition-c03e26dd-b5cd-4721-8706-4f0b6dce9363')\">\n",
       "    <th class=\"repr-section-toggle-col\">\n",
       "        <button>\n",
       "            \n",
       "            <span class=\"collapse-uncollapse-caret\"></span>\n",
       "        </button>\n",
       "    </th>\n",
       "    <th colspan=\"2\">\n",
       "        <strong>Acquisition</strong>\n",
       "    </th>\n",
       "</tr>\n",
       "\n",
       "<tr class=\"repr-element acquisition-c03e26dd-b5cd-4721-8706-4f0b6dce9363 \">\n",
       "    <td class=\"repr-section-toggle-col\"></td>\n",
       "    <td>Duration</td>\n",
       "    <td>00:29:60 (HH:MM:SS)</td>\n",
       "</tr>\n",
       "\n",
       "\n",
       "\n",
       "\n",
       "\n",
       "\n",
       "\n",
       "\n",
       "<tr class=\"repr-element acquisition-c03e26dd-b5cd-4721-8706-4f0b6dce9363 \">\n",
       "    <td class=\"repr-section-toggle-col\"></td>\n",
       "    <td>Sampling frequency</td>\n",
       "    <td>512.00 Hz</td>\n",
       "</tr>\n",
       "\n",
       "\n",
       "<tr class=\"repr-element acquisition-c03e26dd-b5cd-4721-8706-4f0b6dce9363 \">\n",
       "    <td class=\"repr-section-toggle-col\"></td>\n",
       "    <td>Time points</td>\n",
       "    <td>921,600</td>\n",
       "</tr>\n",
       "\n",
       "\n",
       "    \n",
       "\n",
       "\n",
       "\n",
       "\n",
       "\n",
       "\n",
       "\n",
       "<tr class=\"repr-section-header channels-570f29c9-3d6d-469d-abbe-0402f1e06301\"  title=\"Hide section\" \n",
       "    onclick=\"toggleVisibility('channels-570f29c9-3d6d-469d-abbe-0402f1e06301')\">\n",
       "    <th class=\"repr-section-toggle-col\">\n",
       "        <button>\n",
       "            \n",
       "            <span class=\"collapse-uncollapse-caret\"></span>\n",
       "        </button>\n",
       "    </th>\n",
       "    <th colspan=\"2\">\n",
       "        <strong>Channels</strong>\n",
       "    </th>\n",
       "</tr>\n",
       "\n",
       "\n",
       "<tr class=\"repr-element channels-570f29c9-3d6d-469d-abbe-0402f1e06301 \">\n",
       "    <td class=\"repr-section-toggle-col\"></td>\n",
       "    <td>ECoG</td>\n",
       "    <td>\n",
       "        <button class=\"channel-names-btn\" onclick=\"alert('Good ECoG:\\n\\nLGA2, LGA3, LGA4, LGA5, LGA6, LGA7, LGA8, LGA9, LGA10, LGA11, LGA12, LGA13, LGA14, LGA15, LGA16, LGA17, LGA18, LGA19, LGA20, LGA21, LGA22, LGA23, LGA24, LGA25, LGA26, LGA27, LGA28, LGA29, LGA30, LGA31, LGA32, LGA33, LGA34, LGA35, LGA36, LGA37, LGA38, LGA39, LGA40, LGA41, LGA42, LGA43, LGA44, LGA45, LGA46, LGA47, LGA48, LGA49, LGA50, LGA51, LGA52, LGA53, LGA54, LGA55, LGA56, LGA57, LGA58, LGA59, LGA60, LGA61, LGA62, LGA63, LGA64, LGB65, LGB66, LGB67, LGB68, LGB69, LGB70, LGB71, LGB72, LGB73, LGB74, LGB75, LGB76, LGB77, LGB78, LGB79, LGB80, LGB81, LGB82, LGB83, LGB84, LGB85, LGB86, LGB87, LGB88, LGB89, LGB90, LGB91, LGB92, LGB93, LGB94, LGB95, LGB96, LGB97, LGB98, LGB99, LGB100, LGB101, LGB102, LGB103, LGB104, LGB105, LGB106, LGB107, LGB108, LGB109, LGB110, LGB111, LGB112, LGB113, LGB114, LGB115, LGB116, LGB117, LGB118, LGB119, LGB120, LGB121, LGB122, LGB123, LGB124, LGB125, LGB126, LGB127, LGB128')\" title=\"(Click to open in popup)&#13;&#13;LGA2, LGA3, LGA4, LGA5, LGA6, LGA7, LGA8, LGA9, LGA10, LGA11, LGA12, LGA13, LGA14, LGA15, LGA16, LGA17, LGA18, LGA19, LGA20, LGA21, LGA22, LGA23, LGA24, LGA25, LGA26, LGA27, LGA28, LGA29, LGA30, LGA31, LGA32, LGA33, LGA34, LGA35, LGA36, LGA37, LGA38, LGA39, LGA40, LGA41, LGA42, LGA43, LGA44, LGA45, LGA46, LGA47, LGA48, LGA49, LGA50, LGA51, LGA52, LGA53, LGA54, LGA55, LGA56, LGA57, LGA58, LGA59, LGA60, LGA61, LGA62, LGA63, LGA64, LGB65, LGB66, LGB67, LGB68, LGB69, LGB70, LGB71, LGB72, LGB73, LGB74, LGB75, LGB76, LGB77, LGB78, LGB79, LGB80, LGB81, LGB82, LGB83, LGB84, LGB85, LGB86, LGB87, LGB88, LGB89, LGB90, LGB91, LGB92, LGB93, LGB94, LGB95, LGB96, LGB97, LGB98, LGB99, LGB100, LGB101, LGB102, LGB103, LGB104, LGB105, LGB106, LGB107, LGB108, LGB109, LGB110, LGB111, LGB112, LGB113, LGB114, LGB115, LGB116, LGB117, LGB118, LGB119, LGB120, LGB121, LGB122, LGB123, LGB124, LGB125, LGB126, LGB127, LGB128\">\n",
       "            127\n",
       "        </button>\n",
       "\n",
       "        \n",
       "    </td>\n",
       "</tr>\n",
       "\n",
       "\n",
       "<tr class=\"repr-element channels-570f29c9-3d6d-469d-abbe-0402f1e06301 \">\n",
       "    <td class=\"repr-section-toggle-col\"></td>\n",
       "    <td>Head & sensor digitization</td>\n",
       "    \n",
       "    <td>238 points</td>\n",
       "    \n",
       "</tr>\n",
       "    \n",
       "\n",
       "\n",
       "\n",
       "\n",
       "\n",
       "\n",
       "\n",
       "<tr class=\"repr-section-header filters-7d27b531-9cb0-419e-a4e4-d4fcb6f49f0e\"  title=\"Hide section\" \n",
       "    onclick=\"toggleVisibility('filters-7d27b531-9cb0-419e-a4e4-d4fcb6f49f0e')\">\n",
       "    <th class=\"repr-section-toggle-col\">\n",
       "        <button>\n",
       "            \n",
       "            <span class=\"collapse-uncollapse-caret\"></span>\n",
       "        </button>\n",
       "    </th>\n",
       "    <th colspan=\"2\">\n",
       "        <strong>Filters</strong>\n",
       "    </th>\n",
       "</tr>\n",
       "\n",
       "<tr class=\"repr-element filters-7d27b531-9cb0-419e-a4e4-d4fcb6f49f0e \">\n",
       "    <td class=\"repr-section-toggle-col\"></td>\n",
       "    <td>Highpass</td>\n",
       "    <td>70.00 Hz</td>\n",
       "</tr>\n",
       "\n",
       "\n",
       "<tr class=\"repr-element filters-7d27b531-9cb0-419e-a4e4-d4fcb6f49f0e \">\n",
       "    <td class=\"repr-section-toggle-col\"></td>\n",
       "    <td>Lowpass</td>\n",
       "    <td>200.00 Hz</td>\n",
       "</tr>\n",
       "\n",
       "\n",
       "</table>"
      ],
      "text/plain": [
       "<Raw | sub-03_task-podcast_desc-highgamma_ieeg.fif, 127 x 921600 (1800.0 s), ~222 kB, data not loaded>"
      ]
     },
     "execution_count": 99,
     "metadata": {},
     "output_type": "execute_result"
    }
   ],
   "source": [
    "file_path = BIDSPath(root=f\"{bids_root}derivatives/ecogprep\",\n",
    "                    subject=\"03\", task=\"podcast\", datatype=\"ieeg\", description=\"highgamma\",\n",
    "                    suffix=\"ieeg\", extension=\".fif\")\n",
    "print(f\"File path within the dataset: {file_path}\")\n",
    "\n",
    "# You only need to run this if using Colab (i.e. if you did not set bids_root to a local directory)\n",
    "if not len(bids_root):\n",
    "    !wget -nc https://s3.amazonaws.com/openneuro.org/ds005574/$file_path\n",
    "    file_path = file_path.basename\n",
    "\n",
    "raw = mne.io.read_raw_fif(file_path, verbose=False)\n",
    "picks = mne.pick_channels_regexp(raw.ch_names, \"LG[AB]*\")\n",
    "raw = raw.pick(picks)\n",
    "raw"
   ]
  },
  {
   "cell_type": "markdown",
   "id": "f7d08749-597c-4921-a92b-d3734b674185",
   "metadata": {},
   "source": [
    "We will map the start information (in seconds) of each word in the dataframe onto the brain signal data by multiplying by the sampling rate. Here the first column of events mark the start of each word on the brain signal data."
   ]
  },
  {
   "cell_type": "markdown",
   "id": "29320594-1718-41a8-b8ba-9c37abcefd8a",
   "metadata": {},
   "source": [
    "Then we'll take advantage of MNE's tools for creating epochs around stimulus events, which here are the starts (onsets) of each word, to visualize brain signal that respond to word onsets. Here, we take a fixed-width window ranging from -2 seconds to +2 seconds relative to word onset. Since the sampling rate is 512 Hz (512 samples per second), we have 2049 lags total. The ECoG data is a numpy array with the shape of (number of words * number of ECoG electrodes * number of lags).\n"
   ]
  },
  {
   "cell_type": "markdown",
   "id": "7f19b3a1-d36e-4549-8084-1de0c423d2d5",
   "metadata": {},
   "source": [
    "Now we'll convert our data to 16 hz by averaging over non-overlapping windows of 32 data points (512 / 32 = 16).\n",
    "This reproduces the original results from the 2021 paper."
   ]
  },
  {
   "cell_type": "markdown",
   "id": "b4b19ad4-5190-49c9-a526-49a4210fd2aa",
   "metadata": {},
   "source": [
    "## Setting up brain data and features for decoding\n",
    "\n",
    "Now we have both the features and the ECoG data ready. For decoding, we need to reshape the ECoG data to be our input features (X) and the word embeddings to be our targets (Y).\n",
    "\n",
    "Unlike encoding where we fit separate models for each electrode and lag, for decoding we'll use all electrodes together to predict the embedding dimensions.\n"
   ]
  },
  {
   "cell_type": "code",
   "execution_count": 105,
   "id": "082db0c3-356a-4e45-b29f-9440814a6d5e",
   "metadata": {},
   "outputs": [],
   "source": [
    "def get_data(lag, pca_dim=50):\n",
    "    events = np.zeros((len(df_word), 3), dtype=int)\n",
    "    events[:, 0] = (df_word.start * raw.info['sfreq']).astype(int)\n",
    "\n",
    "    epochs = mne.Epochs(\n",
    "        raw,\n",
    "        events,\n",
    "        tmin=lag / 1000 - 0.625/2,\n",
    "        tmax=lag / 1000 + 0.625/2 - 2e-3,\n",
    "        baseline=None,\n",
    "        proj=False,\n",
    "        event_id=None,\n",
    "        preload=True,\n",
    "        event_repeated=\"merge\",\n",
    "    )\n",
    "    # print(f\"Epochs object has a shape of: {epochs._data.shape}\")\n",
    "\n",
    "    data = epochs.get_data(copy=True)\n",
    "    binned_data = data.reshape(data.shape[0], data.shape[1], -1, 32).mean(-1)\n",
    "\n",
    "    selected_embeddings = aligned_embeddings[epochs.selection]\n",
    "    # print(f\"Selected embeddings shape: {selected_embeddings.shape}\")\n",
    "    \n",
    "    # Do PCA to reduce the dimensionality of the embeddings.\n",
    "    pca = PCA(n_components=pca_dim, svd_solver='auto')\n",
    "    selected_embeddings = pca.fit_transform(selected_embeddings.tolist())\n",
    "    \n",
    "    selected_words = df_word.word.to_numpy()[epochs.selection]\n",
    "    # print(f\"Selected words shape: {selected_words.shape}\")\n",
    "    \n",
    "    # Make sure the number of samples match\n",
    "    assert binned_data.shape[0] == selected_embeddings.shape[0], \"Sample counts don't match\"\n",
    "    assert binned_data.shape[0] == selected_words.shape[0], \"Words don't match\"\n",
    "\n",
    "    return binned_data, selected_embeddings, selected_words"
   ]
  },
  {
   "cell_type": "markdown",
   "id": "42bcb455-ca5a-4e71-a494-91d2fa970558",
   "metadata": {},
   "source": [
    "We'll convert the data to PyTorch tensors."
   ]
  },
  {
   "cell_type": "markdown",
   "id": "70273863-ece2-4e0c-a1be-4fdc3c6c98a7",
   "metadata": {},
   "source": [
    "## Define PyTorch Neural Network Model\n"
   ]
  },
  {
   "cell_type": "code",
   "execution_count": 68,
   "id": "5fa5aba6-1acd-41f0-88cd-eb40b40bd8c2",
   "metadata": {},
   "outputs": [],
   "source": [
    "class PitomModel(nn.Module):\n",
    "    def __init__(\n",
    "        self,\n",
    "        input_shapes,\n",
    "        n_classes=None,\n",
    "        conv_filters=128,\n",
    "        reg=0.35,\n",
    "        reg_head=0,\n",
    "        dropout=0.2\n",
    "    ):\n",
    "        \"\"\"\n",
    "        PyTorch implementation of the PITOM decoding model.\n",
    "        \n",
    "        Args:\n",
    "            input_shapes: Tuple containing input shape for CNN (num_channels, num_features) (tuple)\n",
    "            n_classes: Number of output classes (int or None)\n",
    "            conv_filters: Number of convolutional filters (default: 128)\n",
    "            reg: L2 regularization factor for convolutional layers (default: 0.35)\n",
    "            reg_head: L2 regularization factor for dense head (default: 0)\n",
    "            dropout: Dropout rate (default: 0.2)\n",
    "        \"\"\"\n",
    "        super(PitomModel, self).__init__()\n",
    "        \n",
    "        self.conv_filters = conv_filters\n",
    "        self.reg = reg\n",
    "        self.reg_head = reg_head\n",
    "        self.dropout = dropout\n",
    "        self.n_classes = n_classes\n",
    "        \n",
    "        # Define the CNN architecture\n",
    "        self.desc = [(conv_filters, 3), ('max', 2), (conv_filters, 2)]\n",
    "        \n",
    "        # Build the layers\n",
    "        self.layers = nn.ModuleList()\n",
    "        \n",
    "        input_channels = input_shapes[0]\n",
    "        \n",
    "        for i, (filters, kernel_size) in enumerate(self.desc):\n",
    "            if filters == 'max':\n",
    "                self.layers.append(\n",
    "                    nn.MaxPool1d(kernel_size=kernel_size, stride=kernel_size, padding=kernel_size//2)\n",
    "                )\n",
    "            else:\n",
    "                # Conv block\n",
    "                conv = nn.Conv1d(\n",
    "                    in_channels=input_channels if i == 0 else conv_filters,\n",
    "                    out_channels=filters,\n",
    "                    kernel_size=kernel_size,\n",
    "                    stride=1,\n",
    "                    padding=0,  # 'valid' in Keras\n",
    "                    bias=False\n",
    "                )\n",
    "                \n",
    "                # Apply weight decay equivalent to L2 regularization\n",
    "                self.layers.append(conv)\n",
    "                self.layers.append(nn.ReLU())\n",
    "                self.layers.append(nn.BatchNorm1d(filters))\n",
    "                self.layers.append(nn.Dropout(dropout))\n",
    "                \n",
    "                input_channels = filters\n",
    "        \n",
    "        # Final locally connected layer (using Conv1d with groups as approximation)\n",
    "        # Note: True locally connected layers aren't standard in PyTorch\n",
    "        # This is an approximation that would need to be customized further for exact equivalence\n",
    "        self.final_conv = nn.Conv1d(\n",
    "            in_channels=conv_filters,\n",
    "            out_channels=conv_filters,\n",
    "            kernel_size=2,\n",
    "            stride=1,\n",
    "            padding=0,  # 'valid' in Keras\n",
    "            bias=True\n",
    "        )\n",
    "        \n",
    "        self.final_bn = nn.BatchNorm1d(conv_filters)\n",
    "        self.final_act = nn.ReLU()\n",
    "        \n",
    "        # Output layer\n",
    "        if n_classes is not None:\n",
    "            self.dense = nn.Linear(conv_filters, n_classes)\n",
    "            self.layer_norm = nn.LayerNorm(n_classes)\n",
    "            self.tanh = nn.Tanh()\n",
    "    \n",
    "    def forward(self, x):\n",
    "        # Apply layers\n",
    "        for layer in self.layers:\n",
    "            x = layer(x)\n",
    "        \n",
    "        # Apply final conv block\n",
    "        x = self.final_conv(x)\n",
    "        x = self.final_bn(x)\n",
    "        x = self.final_act(x)\n",
    "        \n",
    "        # Global max pooling\n",
    "        x = F.adaptive_max_pool1d(x, 1).squeeze(-1)\n",
    "        \n",
    "        # Apply output layer if needed\n",
    "        if self.n_classes is not None:\n",
    "            x = self.dense(x)\n",
    "            x = self.layer_norm(x)\n",
    "            x = self.tanh(x)\n",
    "            \n",
    "        return x"
   ]
  },
  {
   "cell_type": "markdown",
   "id": "61ff26cf-e388-4a5f-9221-8ac4308a1b37",
   "metadata": {},
   "source": [
    "## Training Function\n",
    "\n",
    "Let's define functions for training and evaluating our PyTorch model."
   ]
  },
  {
   "cell_type": "code",
   "execution_count": 149,
   "id": "3ff7411e-94a7-4851-b85d-7ceda05e5837",
   "metadata": {},
   "outputs": [],
   "source": [
    "import torch\n",
    "import torch.nn as nn\n",
    "import torch.nn.functional as F\n",
    "import torch.optim as optim\n",
    "from torch.utils.data import DataLoader, TensorDataset\n",
    "import numpy as np\n",
    "from sklearn.model_selection import KFold\n",
    "from sklearn.metrics import roc_auc_score\n",
    "from sklearn.model_selection import train_test_split\n",
    "import matplotlib.pyplot as plt\n",
    "from tqdm import tqdm\n",
    "from scipy.spatial.distance import cosine\n",
    "from collections import Counter\n",
    "\n",
    "def summarize_roc_results(word_aucs, selected_words, min_repetitions=5):\n",
    "    word_counts = Counter(selected_words)\n",
    "    frequent_words = [word for word, count in word_counts.items() if count >= min_repetitions]\n",
    "\n",
    "    total_count = sum(word_counts[word] for word in frequent_words if word in word_aucs)\n",
    "    weighted_auc = sum(word_aucs[word] * word_counts[word] for word in word_aucs) / total_count\n",
    "\n",
    "    return weighted_auc\n",
    "\n",
    "def calculate_word_embeddings_roc_auc_logits(model, X, Y, selected_words, min_repetitions=5):\n",
    "    \"\"\"\n",
    "    Calculate ROC-AUC for word embedding predictions using logits approach.\n",
    "    \n",
    "    This follows the described method more closely, converting distances to logits\n",
    "    via softmax transformation.\n",
    "    \"\"\"\n",
    "    # Step 1: Get word frequency counts and filter for words with minimum repetitions\n",
    "    word_counts = Counter(selected_words)\n",
    "    frequent_words = [word for word, count in word_counts.items() if count >= min_repetitions]\n",
    "    print(f\"Found {len(frequent_words)} words with at least {min_repetitions} repetitions ({len(frequent_words)/len(set(selected_words))*100:.1f}% of unique words)\")\n",
    "    \n",
    "    # Step 2: Get predicted embeddings for all neural data\n",
    "    model_predictions = []\n",
    "    for i in range(len(X)):\n",
    "        with torch.no_grad():\n",
    "            input_data = torch.tensor(X[i:i+1], dtype=torch.float32)\n",
    "            pred = model(input_data).numpy()\n",
    "        \n",
    "        model_predictions.append(pred.squeeze())\n",
    "    \n",
    "    predicted_embeddings = np.array(model_predictions)\n",
    "    \n",
    "    # Step 3: Group all embeddings for each unique word\n",
    "    unique_words = list(set(selected_words))\n",
    "    word_to_embeddings = {word: np.array(Y[np.array(selected_words) == word]) for word in unique_words}\n",
    "    \n",
    "    # Step 4: Calculate average embeddings for each unique word\n",
    "    avg_word_embeddings = {word: np.mean(embs, axis=0) for word, embs in word_to_embeddings.items()}\n",
    "    \n",
    "    # Step 5: Calculate cosine distances and convert to logits\n",
    "    word_aucs = {}\n",
    "    word_to_idx = {}\n",
    "    \n",
    "    for idx, pred_embedding in enumerate(predicted_embeddings):\n",
    "        # Calculate distances to all unique words\n",
    "        distances = []\n",
    "        for word in unique_words:\n",
    "            avg_embedding = avg_word_embeddings[word]\n",
    "            distance = cosine(pred_embedding, avg_embedding)\n",
    "            # Convert distance to similarity\n",
    "            similarity = 1 - distance\n",
    "            distances.append(similarity)\n",
    "        \n",
    "        # Convert similarities to logits using softmax\n",
    "        logits = torch.tensor(distances)\n",
    "        logits = F.softmax(logits, dim=0).numpy()\n",
    "        \n",
    "        # For each instance, collect logits for the correct label and all other labels\n",
    "        true_word = selected_words[idx]\n",
    "        true_word_idx = unique_words.index(true_word)\n",
    "        \n",
    "        # Update the logits for each word\n",
    "        if true_word not in word_to_idx:\n",
    "            word_to_idx[true_word] = {'logits': [], 'is_true': []}\n",
    "        \n",
    "        for word_idx, word in enumerate(unique_words):\n",
    "            if word not in word_to_idx:\n",
    "                word_to_idx[word] = {'logits': [], 'is_true': []}\n",
    "            \n",
    "            word_to_idx[word]['logits'].append(logits[word_idx])\n",
    "            word_to_idx[word]['is_true'].append(1 if word == true_word else 0)\n",
    "    \n",
    "    # Step 6: Calculate ROC-AUC for each frequent word\n",
    "    for word in frequent_words:\n",
    "        try:\n",
    "            roc_auc = roc_auc_score(\n",
    "                np.array(word_to_idx[word]['is_true']),\n",
    "                np.array(word_to_idx[word]['logits'])\n",
    "            )\n",
    "            word_aucs[word] = roc_auc\n",
    "        except ValueError:\n",
    "            print(f\"Skipping ROC-AUC calculation for '{word}' - insufficient class variety\")\n",
    "    \n",
    "    # Step 7: Calculate weighted ROC-AUC based on word frequency\n",
    "    total_count = sum(word_counts[word] for word in frequent_words if word in word_aucs)\n",
    "    weighted_auc = sum(word_aucs[word] * word_counts[word] for word in word_aucs) / total_count\n",
    "    \n",
    "    # Plotting\n",
    "    plt.figure(figsize=(10, 6))\n",
    "    plt.bar(word_aucs.keys(), word_aucs.values())\n",
    "    plt.axhline(y=weighted_auc, color='r', linestyle='-', label=f'Weighted Average: {weighted_auc:.3f}')\n",
    "    plt.xticks(rotation=90)\n",
    "    plt.ylabel('ROC-AUC')\n",
    "    plt.xlabel('Words')\n",
    "    plt.title('ROC-AUC for Word Predictions (Logits Approach)')\n",
    "    plt.legend()\n",
    "    plt.tight_layout()\n",
    "    \n",
    "    return {\n",
    "        'word_aucs': word_aucs,\n",
    "        'weighted_auc': weighted_auc,\n",
    "        'frequent_words': frequent_words\n",
    "    }\n",
    "\n",
    "def train_pitom_model_cv(X, Y, selected_words, model_params=None, training_params=None):\n",
    "    \"\"\"\n",
    "    Train the PitomModel on neural data using 5-fold cross-validation.\n",
    "    Uses 3 folds for training, 1 fold for validation (early stopping), and 1 fold for testing.\n",
    "    Uses cosine similarity as a metric and for early stopping.\n",
    "    \n",
    "    Args:\n",
    "        X: Input data of shape [num_examples, num_electrodes, num_timepoints]\n",
    "        Y: Target embeddings of shape [num_examples, embedding_dim]\n",
    "        selected_words: String representation of words of shape [num_examples]\n",
    "        model_params: Dictionary of model parameters (default: None)\n",
    "        training_params: Dictionary of training parameters (default: None)\n",
    "        \n",
    "    Returns:\n",
    "        models: List of trained PitomModels (one per fold)\n",
    "        histories: List of dictionaries containing training histories\n",
    "        cv_results: Dictionary with cross-validation metrics\n",
    "    \"\"\"\n",
    "    # Set device\n",
    "    device = torch.device(\"cuda\" if torch.cuda.is_available() else \"cpu\")\n",
    "    print(f\"Using device: {device}\")\n",
    "    \n",
    "    # Default model parameters\n",
    "    if model_params is None:\n",
    "        model_params = {\n",
    "            'conv_filters': 128,\n",
    "            'reg': 0.35,\n",
    "            'reg_head': 0,\n",
    "            'dropout': 0.2\n",
    "        }\n",
    "    \n",
    "    # Default training parameters\n",
    "    if training_params is None:\n",
    "        training_params = {\n",
    "            'batch_size': 32,\n",
    "            'epochs': 50,\n",
    "            'learning_rate': 0.001,\n",
    "            'weight_decay': 0.0001,\n",
    "            'early_stopping_patience': 10,\n",
    "            'n_folds': 5\n",
    "        }\n",
    "    \n",
    "    # Convert numpy arrays to torch tensors if needed\n",
    "    if isinstance(X, np.ndarray):\n",
    "        X = torch.tensor(X, dtype=torch.float32)\n",
    "    if isinstance(Y, np.ndarray):\n",
    "        Y = torch.tensor(Y, dtype=torch.float32)\n",
    "    \n",
    "    # Initialize cross-validation results\n",
    "    models = []\n",
    "    histories = []\n",
    "    cv_results = {\n",
    "        'train_loss': [],\n",
    "        'val_loss': [],\n",
    "        'test_loss': [],\n",
    "        'train_cosine': [],\n",
    "        'val_cosine': [],\n",
    "        'test_cosine': []\n",
    "    }\n",
    "    roc_results = []\n",
    "\n",
    "    # Build folds by ensuring that all occurences of a particular word fall within one fold.\n",
    "    unique_words = list(set(selected_words))\n",
    "    word_to_idx = {}\n",
    "    for i, word in enumerate(selected_words):\n",
    "        if word not in word_to_idx:\n",
    "            word_to_idx[word] = []\n",
    "        word_to_idx[word].append(i)\n",
    "\n",
    "    # Define input shapes for the model\n",
    "    input_shapes = (X.shape[1], X.shape[2])  # (num_electrodes, num_timepoints)\n",
    "    embedding_dim = Y.shape[1]\n",
    "\n",
    "    kf = KFold(n_splits=5, shuffle=True, random_state=42)\n",
    "    fold_indices = list(kf.split(range(len(unique_words))))\n",
    "\n",
    "    for fold, (train_val_word_idx, test_word_idx) in enumerate(fold_indices):\n",
    "        print(f\"\\n{'='*50}\")\n",
    "        print(f\"FOLD {fold+1}/{training_params['n_folds']}\")\n",
    "        print(f\"{'='*50}\")\n",
    "\n",
    "        # For each fold, we need to:\n",
    "        # 1. Use 3 folds for training\n",
    "        # 2. Use 1 fold for validation (early stopping)\n",
    "        # 3. Use 1 fold for testing\n",
    "        \n",
    "        train_val_word_indices = np.array(train_val_word_idx)\n",
    "        train_word_idx, val_word_idx = train_test_split(\n",
    "            train_val_word_indices,\n",
    "            test_size=0.25,  # Equivalent to 1 fold out of 4\n",
    "            random_state=42+fold  # Different seed for each fold\n",
    "        )\n",
    "    \n",
    "        train_idx = word_folds_to_example_folds(train_word_idx, word_to_idx, unique_words)\n",
    "        val_idx = word_folds_to_example_folds(val_word_idx, word_to_idx, unique_words)\n",
    "        test_idx = word_folds_to_example_folds(test_word_idx, word_to_idx, unique_words)\n",
    "        \n",
    "        # Create data loaders for train, validation, and test sets\n",
    "        X_train, Y_train = X[train_idx], Y[train_idx]\n",
    "        X_val, Y_val = X[val_idx], Y[val_idx]\n",
    "        X_test, Y_test = X[test_idx], Y[test_idx]\n",
    "        \n",
    "        train_dataset = TensorDataset(X_train, Y_train)\n",
    "        val_dataset = TensorDataset(X_val, Y_val)\n",
    "        test_dataset = TensorDataset(X_test, Y_test)\n",
    "        \n",
    "        train_loader = DataLoader(\n",
    "            train_dataset, \n",
    "            batch_size=training_params['batch_size'], \n",
    "            shuffle=True\n",
    "        )\n",
    "        \n",
    "        val_loader = DataLoader(\n",
    "            val_dataset, \n",
    "            batch_size=training_params['batch_size'], \n",
    "            shuffle=False\n",
    "        )\n",
    "        \n",
    "        test_loader = DataLoader(\n",
    "            test_dataset, \n",
    "            batch_size=training_params['batch_size'], \n",
    "            shuffle=False\n",
    "        )\n",
    "        \n",
    "        # Initialize model for this fold\n",
    "        model = PitomModel(\n",
    "            input_shapes=input_shapes,\n",
    "            n_classes=embedding_dim,\n",
    "            conv_filters=model_params['conv_filters'],\n",
    "            reg=model_params['reg'],\n",
    "            reg_head=model_params['reg_head'],\n",
    "            dropout=model_params['dropout']\n",
    "        ).to(device)\n",
    "        \n",
    "        # Define loss function and optimizer\n",
    "        criterion = nn.MSELoss()\n",
    "        optimizer = optim.Adam(\n",
    "            model.parameters(), \n",
    "            lr=training_params['learning_rate'],\n",
    "            weight_decay=training_params['weight_decay']  # L2 regularization\n",
    "        )\n",
    "        \n",
    "        # Initialize variables for early stopping (now based on cosine similarity)\n",
    "        best_val_cosine = -float('inf')  # We want to maximize cosine similarity\n",
    "        patience_counter = 0\n",
    "        \n",
    "        # Initialize history dictionary to track metrics for this fold\n",
    "        history = {\n",
    "            'train_loss': [],\n",
    "            'val_loss': [],\n",
    "            'train_cosine': [],\n",
    "            'val_cosine': []\n",
    "        }\n",
    "        \n",
    "        # Training loop for this fold\n",
    "        for epoch in range(training_params['epochs']):\n",
    "            # Training phase\n",
    "            model.train()\n",
    "            train_loss = 0.0\n",
    "            train_corrs = []\n",
    "            \n",
    "            progress_bar = tqdm(train_loader, desc=f\"Fold {fold+1}, Epoch {epoch+1}/{training_params['epochs']}\")\n",
    "            for inputs, targets in progress_bar:\n",
    "                inputs, targets = inputs.to(device), targets.to(device)\n",
    "                \n",
    "                # Zero the parameter gradients\n",
    "                optimizer.zero_grad()\n",
    "                \n",
    "                # Forward pass\n",
    "                outputs = model(inputs)\n",
    "                loss = criterion(outputs, targets)\n",
    "                \n",
    "                # Backward pass and optimize\n",
    "                loss.backward()\n",
    "                optimizer.step()\n",
    "                \n",
    "                # Track statistics\n",
    "                train_loss += loss.item() * inputs.size(0)\n",
    "                \n",
    "                # Calculate cosine similarity between predictions and targets\n",
    "                batch_cosines = calculate_cosine_similarity(outputs.detach().cpu(), targets.detach().cpu())\n",
    "                train_corrs.extend(batch_cosines)\n",
    "                \n",
    "                # Update progress bar\n",
    "                progress_bar.set_postfix({'loss': loss.item(), 'cosine': np.mean(batch_cosines)})\n",
    "            \n",
    "            train_loss = train_loss / len(train_loader.dataset)\n",
    "            train_cosine = np.mean(train_corrs)\n",
    "            \n",
    "            # Validation phase\n",
    "            model.eval()\n",
    "            val_loss = 0.0\n",
    "            val_corrs = []\n",
    "            \n",
    "            with torch.no_grad():\n",
    "                for inputs, targets in val_loader:\n",
    "                    inputs, targets = inputs.to(device), targets.to(device)\n",
    "                    \n",
    "                    # Forward pass\n",
    "                    outputs = model(inputs)\n",
    "                    loss = criterion(outputs, targets)\n",
    "                    \n",
    "                    # Track statistics\n",
    "                    val_loss += loss.item() * inputs.size(0)\n",
    "                    \n",
    "                    # Calculate cosine similarity\n",
    "                    batch_cosines = calculate_cosine_similarity(outputs.cpu(), targets.cpu())\n",
    "                    val_corrs.extend(batch_cosines)\n",
    "            \n",
    "            val_loss = val_loss / len(val_loader.dataset)\n",
    "            val_cosine = np.mean(val_corrs)\n",
    "            \n",
    "            # Update history\n",
    "            history['train_loss'].append(train_loss)\n",
    "            history['val_loss'].append(val_loss)\n",
    "            history['train_cosine'].append(train_cosine)\n",
    "            history['val_cosine'].append(val_cosine)\n",
    "            \n",
    "            # Print epoch results\n",
    "            print(f\"Epoch {epoch+1}/{training_params['epochs']}: \"\n",
    "                  f\"Train Loss = {train_loss:.4f}, Train Cosine = {train_cosine:.4f}, \"\n",
    "                  f\"Val Loss = {val_loss:.4f}, Val Cosine = {val_cosine:.4f}\")\n",
    "            \n",
    "            # Early stopping based on cosine similarity (higher is better)\n",
    "            if val_cosine > best_val_cosine:\n",
    "                best_val_cosine = val_cosine\n",
    "                patience_counter = 0\n",
    "                # Save best model for this fold\n",
    "                torch.save(model.state_dict(), f'best_pitom_model_fold{fold+1}.pt')\n",
    "                print(f\"Saved best model checkpoint for fold {fold+1} (Val Cosine: {val_cosine:.4f}).\")\n",
    "            else:\n",
    "                patience_counter += 1\n",
    "                if patience_counter >= training_params['early_stopping_patience']:\n",
    "                    print(f\"Early stopping triggered after {epoch+1} epochs.\")\n",
    "                    break\n",
    "        \n",
    "        # Load best model for this fold\n",
    "        model.load_state_dict(torch.load(f'best_pitom_model_fold{fold+1}.pt'))\n",
    "        \n",
    "        # Test the model on the test set\n",
    "        model.eval()\n",
    "        test_loss = 0.0\n",
    "        test_corrs = []\n",
    "        \n",
    "        with torch.no_grad():\n",
    "            for inputs, targets in test_loader:\n",
    "                inputs, targets = inputs.to(device), targets.to(device)\n",
    "                \n",
    "                # Forward pass\n",
    "                outputs = model(inputs)\n",
    "                loss = criterion(outputs, targets)\n",
    "                \n",
    "                # Track statistics\n",
    "                test_loss += loss.item() * inputs.size(0)\n",
    "                \n",
    "                # Calculate cosine similarity\n",
    "                batch_cosines = calculate_cosine_similarity(outputs.cpu(), targets.cpu())\n",
    "                test_corrs.extend(batch_cosines)\n",
    "\n",
    "            roc_result = calculate_word_embeddings_roc_auc_logits(model, X_test, Y_test, selected_words[test_idx])\n",
    "            roc_results.append(roc_result)\n",
    "        \n",
    "        test_loss = test_loss / len(test_loader.dataset)\n",
    "        test_cosine = np.mean(test_corrs)\n",
    "        \n",
    "        print(f\"\\nFold {fold+1} Test Results: Loss = {test_loss:.4f}, Cosine Similarity = {test_cosine:.4f}\")\n",
    "        \n",
    "        # Store fold results\n",
    "        cv_results['train_loss'].append(history['train_loss'][-1])  # Last epoch\n",
    "        cv_results['val_loss'].append(history['val_loss'][history['val_cosine'].index(max(history['val_cosine']))])  # Loss at best cosine\n",
    "        cv_results['test_loss'].append(test_loss)\n",
    "        cv_results['train_cosine'].append(history['train_cosine'][-1])  # Last epoch\n",
    "        cv_results['val_cosine'].append(best_val_cosine)  # Best validation cosine\n",
    "        cv_results['test_cosine'].append(test_cosine)\n",
    "        \n",
    "        # Store model and history for this fold\n",
    "        models.append(model)\n",
    "        histories.append(history)\n",
    "        \n",
    "        # Plot training history for this fold\n",
    "        plot_training_history(history, fold=fold+1)\n",
    "    \n",
    "    # Calculate and print cross-validation results\n",
    "    print(\"\\n\" + \"=\"*60)\n",
    "    print(\"CROSS-VALIDATION RESULTS\")\n",
    "    print(\"=\"*60)\n",
    "    print(f\"Mean Train Loss: {np.mean(cv_results['train_loss']):.4f} ± {np.std(cv_results['train_loss']):.4f}\")\n",
    "    print(f\"Mean Val Loss: {np.mean(cv_results['val_loss']):.4f} ± {np.std(cv_results['val_loss']):.4f}\")\n",
    "    print(f\"Mean Test Loss: {np.mean(cv_results['test_loss']):.4f} ± {np.std(cv_results['test_loss']):.4f}\")\n",
    "    print(f\"Mean Train Cosine: {np.mean(cv_results['train_cosine']):.4f} ± {np.std(cv_results['train_cosine']):.4f}\")\n",
    "    print(f\"Mean Val Cosine: {np.mean(cv_results['val_cosine']):.4f} ± {np.std(cv_results['val_cosine']):.4f}\")\n",
    "    print(f\"Mean Test Cosine: {np.mean(cv_results['test_cosine']):.4f} ± {np.std(cv_results['test_cosine']):.4f}\")\n",
    "    \n",
    "    # Plot overall cross-validation results\n",
    "    plot_cv_results(cv_results)\n",
    "\n",
    "    final_word_auc = {}\n",
    "    for roc_result in roc_results:\n",
    "        final_word_auc.update(roc_result['word_aucs'])\n",
    "    weighted_roc_mean = summarize_roc_results(final_word_auc, selected_words)\n",
    "    \n",
    "    return models, histories, cv_results, roc_results, weighted_roc_mean\n",
    "\n",
    "def calculate_cosine_similarity(predictions, targets):\n",
    "    \"\"\"\n",
    "    Calculate cosine similarity between predictions and targets.\n",
    "    \n",
    "    Args:\n",
    "        predictions: Tensor of shape [batch_size, embedding_dim]\n",
    "        targets: Tensor of shape [batch_size, embedding_dim]\n",
    "        \n",
    "    Returns:\n",
    "        cosine_similarities: List of cosine similarities for each example\n",
    "    \"\"\"\n",
    "    cosine_similarities = []\n",
    "    \n",
    "    # Convert to numpy if tensors\n",
    "    if torch.is_tensor(predictions):\n",
    "        predictions = predictions.numpy()\n",
    "    if torch.is_tensor(targets):\n",
    "        targets = targets.numpy()\n",
    "    \n",
    "    # Calculate cosine similarity for each example\n",
    "    for i in range(predictions.shape[0]):\n",
    "        # Normalize vectors\n",
    "        pred_norm = np.linalg.norm(predictions[i])\n",
    "        target_norm = np.linalg.norm(targets[i])\n",
    "        \n",
    "        # Handle zero vectors\n",
    "        if pred_norm == 0 or target_norm == 0:\n",
    "            cosine_similarities.append(0.0)\n",
    "        else:\n",
    "            # Calculate cosine similarity\n",
    "            similarity = np.dot(predictions[i], targets[i]) / (pred_norm * target_norm)\n",
    "            cosine_similarities.append(similarity)\n",
    "    \n",
    "    return cosine_similarities\n",
    "\n",
    "\n",
    "def word_folds_to_example_folds(word_fold_idx, word_to_idx, unique_words):\n",
    "    example_fold_idx = []\n",
    "    for i in word_fold_idx:\n",
    "        example_fold_idx.extend(word_to_idx[unique_words[i]])\n",
    "    return example_fold_idx\n",
    "    \n",
    "\n",
    "def plot_training_history(history, fold=None):\n",
    "    \"\"\"\n",
    "    Plot the training and validation loss and cosine similarity.\n",
    "    \n",
    "    Args:\n",
    "        history: Dictionary containing training history\n",
    "        fold: Fold number (optional)\n",
    "    \"\"\"\n",
    "    # Create figure with two subplots\n",
    "    fig, (ax1, ax2) = plt.subplots(1, 2, figsize=(15, 5))\n",
    "    \n",
    "    # Plot loss\n",
    "    ax1.plot(history['train_loss'], label='Training Loss')\n",
    "    ax1.plot(history['val_loss'], label='Validation Loss')\n",
    "    ax1.set_xlabel('Epoch')\n",
    "    ax1.set_ylabel('Loss (MSE)')\n",
    "    title = 'Training and Validation Loss'\n",
    "    if fold is not None:\n",
    "        title = f'Fold {fold}: {title}'\n",
    "    ax1.set_title(title)\n",
    "    ax1.legend()\n",
    "    ax1.grid(True)\n",
    "    \n",
    "    # Plot cosine similarity\n",
    "    ax2.plot(history['train_cosine'], label='Training Cosine Similarity')\n",
    "    ax2.plot(history['val_cosine'], label='Validation Cosine Similarity')\n",
    "    ax2.set_xlabel('Epoch')\n",
    "    ax2.set_ylabel('Cosine Similarity')\n",
    "    title = 'Training and Validation Cosine Similarity'\n",
    "    if fold is not None:\n",
    "        title = f'Fold {fold}: {title}'\n",
    "    ax2.set_title(title)\n",
    "    ax2.legend()\n",
    "    ax2.grid(True)\n",
    "    \n",
    "    plt.tight_layout()\n",
    "    filename = 'pitom_training_history.png'\n",
    "    if fold is not None:\n",
    "        filename = f'pitom_training_history_fold{fold}.png'\n",
    "    plt.savefig(filename)\n",
    "    plt.show()\n",
    "\n",
    "def plot_cv_results(cv_results):\n",
    "    \"\"\"\n",
    "    Plot cross-validation results.\n",
    "    \n",
    "    Args:\n",
    "        cv_results: Dictionary containing cross-validation results\n",
    "    \"\"\"\n",
    "    # Create figure with two subplots\n",
    "    fig, (ax1, ax2) = plt.subplots(1, 2, figsize=(15, 5))\n",
    "    \n",
    "    # Prepare data\n",
    "    folds = range(1, len(cv_results['train_loss']) + 1)\n",
    "    \n",
    "    # Plot loss\n",
    "    ax1.plot(folds, cv_results['train_loss'], 'o-', label='Training Loss')\n",
    "    ax1.plot(folds, cv_results['val_loss'], 'o-', label='Validation Loss')\n",
    "    ax1.plot(folds, cv_results['test_loss'], 'o-', label='Test Loss')\n",
    "    ax1.set_xlabel('Fold')\n",
    "    ax1.set_ylabel('Loss (MSE)')\n",
    "    ax1.set_title('Cross-Validation Loss')\n",
    "    ax1.set_xticks(folds)\n",
    "    ax1.legend()\n",
    "    ax1.grid(True)\n",
    "    \n",
    "    # Plot cosine similarity\n",
    "    ax2.plot(folds, cv_results['train_cosine'], 'o-', label='Training Cosine Similarity')\n",
    "    ax2.plot(folds, cv_results['val_cosine'], 'o-', label='Validation Cosine Similarity')\n",
    "    ax2.plot(folds, cv_results['test_cosine'], 'o-', label='Test Cosine Similarity')\n",
    "    ax2.set_xlabel('Fold')\n",
    "    ax2.set_ylabel('Cosine Similarity')\n",
    "    ax2.set_title('Cross-Validation Cosine Similarity')\n",
    "    ax2.set_xticks(folds)\n",
    "    ax2.legend()\n",
    "    ax2.grid(True)\n",
    "    \n",
    "    plt.tight_layout()\n",
    "    plt.savefig('pitom_cv_results.png')\n",
    "    plt.show()\n",
    "\n",
    "\n",
    "# # Example of making predictions with the best model from cross-validation\n",
    "# # Find the best fold based on test cosine similarity\n",
    "# best_fold_idx = np.argmax(cv_results['test_cosine'])\n",
    "# best_model = models[best_fold_idx]\n",
    "\n",
    "# best_model.eval()\n",
    "# with torch.no_grad():\n",
    "#     test_input = torch.randn(1, num_electrodes, num_timepoints)\n",
    "#     prediction = best_model(test_input)\n",
    "#     print(f\"\\nPrediction using best model (fold {best_fold_idx+1}):\")\n",
    "#     print(f\"Prediction shape: {prediction.shape}\")\n",
    "    \n",
    "# # You can also use an ensemble of all models for prediction\n",
    "# print(\"\\nEnsemble prediction example:\")\n",
    "# all_predictions = []\n",
    "# for model in models:\n",
    "#     model.eval()\n",
    "#     with torch.no_grad():\n",
    "#         pred = model(test_input)\n",
    "#         all_predictions.append(pred)\n",
    "\n",
    "# # Average predictions from all models\n",
    "# ensemble_prediction = torch.mean(torch.stack(all_predictions), dim=0)\n",
    "# print(f\"Ensemble prediction shape: {ensemble_prediction.shape}\")"
   ]
  },
  {
   "cell_type": "code",
   "execution_count": null,
   "id": "5c8bc96c-b064-4b91-9f35-52c136f6ca58",
   "metadata": {},
   "outputs": [
    {
     "name": "stdout",
     "output_type": "stream",
     "text": [
      "running lag: -900\n",
      "Not setting metadata\n",
      "5136 matching events found\n",
      "No baseline correction applied\n",
      "Loading data for 5136 events and 320 original time points ...\n"
     ]
    },
    {
     "name": "stderr",
     "output_type": "stream",
     "text": [
      "/var/folders/z7/qrc5k22j2qq05jzdksv8hd_00000gn/T/ipykernel_19736/2954525369.py:5: RuntimeWarning: The events passed to the Epochs constructor are not chronologically ordered.\n",
      "  epochs = mne.Epochs(\n"
     ]
    },
    {
     "name": "stdout",
     "output_type": "stream",
     "text": [
      "0 bad epochs dropped\n",
      "X_tensor shape: torch.Size([5136, 127, 10]), Y_tensor shape: torch.Size([5136, 50])\n",
      "Using device: cpu\n",
      "\n",
      "==================================================\n",
      "FOLD 1/5\n",
      "==================================================\n"
     ]
    },
    {
     "name": "stderr",
     "output_type": "stream",
     "text": [
      "Fold 1, Epoch 1/50: 100%|████████████████████████████████████████████████████████████████████████████████████████████████████████████████████████████| 91/91 [00:00<00:00, 111.88it/s, loss=80.6, cosine=0.0421]\n"
     ]
    },
    {
     "name": "stdout",
     "output_type": "stream",
     "text": [
      "Epoch 1/50: Train Loss = 85.1382, Train Cosine = 0.0311, Val Loss = 101.8168, Val Cosine = -0.0407\n",
      "Saved best model checkpoint for fold 1 (Val Cosine: -0.0407).\n"
     ]
    },
    {
     "name": "stderr",
     "output_type": "stream",
     "text": [
      "Fold 1, Epoch 2/50: 100%|████████████████████████████████████████████████████████████████████████████████████████████████████████████████████████████| 91/91 [00:00<00:00, 116.64it/s, loss=92.1, cosine=0.0949]\n"
     ]
    },
    {
     "name": "stdout",
     "output_type": "stream",
     "text": [
      "Epoch 2/50: Train Loss = 84.9692, Train Cosine = 0.0433, Val Loss = 101.7360, Val Cosine = -0.0416\n"
     ]
    },
    {
     "name": "stderr",
     "output_type": "stream",
     "text": [
      "Fold 1, Epoch 3/50: 100%|███████████████████████████████████████████████████████████████████████████████████████████████████████████████████████████| 91/91 [00:00<00:00, 128.08it/s, loss=87.7, cosine=0.00019]\n"
     ]
    },
    {
     "name": "stdout",
     "output_type": "stream",
     "text": [
      "Epoch 3/50: Train Loss = 84.9406, Train Cosine = 0.0447, Val Loss = 101.6101, Val Cosine = -0.0357\n",
      "Saved best model checkpoint for fold 1 (Val Cosine: -0.0357).\n"
     ]
    },
    {
     "name": "stderr",
     "output_type": "stream",
     "text": [
      "Fold 1, Epoch 4/50: 100%|██████████████████████████████████████████████████████████████████████████████████████████████████████████████████████████████| 91/91 [00:00<00:00, 129.81it/s, loss=79, cosine=0.0529]\n"
     ]
    },
    {
     "name": "stdout",
     "output_type": "stream",
     "text": [
      "Epoch 4/50: Train Loss = 84.8944, Train Cosine = 0.0507, Val Loss = 101.3416, Val Cosine = -0.0195\n",
      "Saved best model checkpoint for fold 1 (Val Cosine: -0.0195).\n"
     ]
    },
    {
     "name": "stderr",
     "output_type": "stream",
     "text": [
      "Fold 1, Epoch 5/50: 100%|████████████████████████████████████████████████████████████████████████████████████████████████████████████████████████████| 91/91 [00:00<00:00, 128.31it/s, loss=87.4, cosine=0.0301]\n"
     ]
    },
    {
     "name": "stdout",
     "output_type": "stream",
     "text": [
      "Epoch 5/50: Train Loss = 84.7860, Train Cosine = 0.0632, Val Loss = 101.2558, Val Cosine = -0.0067\n",
      "Saved best model checkpoint for fold 1 (Val Cosine: -0.0067).\n"
     ]
    },
    {
     "name": "stderr",
     "output_type": "stream",
     "text": [
      "Fold 1, Epoch 6/50: 100%|███████████████████████████████████████████████████████████████████████████████████████████████████████████████████████████████| 91/91 [00:00<00:00, 135.68it/s, loss=67, cosine=0.131]\n"
     ]
    },
    {
     "name": "stdout",
     "output_type": "stream",
     "text": [
      "Epoch 6/50: Train Loss = 84.5058, Train Cosine = 0.0922, Val Loss = 100.9005, Val Cosine = 0.0299\n",
      "Saved best model checkpoint for fold 1 (Val Cosine: 0.0299).\n"
     ]
    },
    {
     "name": "stderr",
     "output_type": "stream",
     "text": [
      "Fold 1, Epoch 7/50: 100%|██████████████████████████████████████████████████████████████████████████████████████████████████████████████████████████████| 91/91 [00:00<00:00, 141.35it/s, loss=108, cosine=0.152]\n"
     ]
    },
    {
     "name": "stdout",
     "output_type": "stream",
     "text": [
      "Epoch 7/50: Train Loss = 84.3020, Train Cosine = 0.1102, Val Loss = 100.6950, Val Cosine = 0.0508\n",
      "Saved best model checkpoint for fold 1 (Val Cosine: 0.0508).\n"
     ]
    },
    {
     "name": "stderr",
     "output_type": "stream",
     "text": [
      "Fold 1, Epoch 8/50: 100%|███████████████████████████████████████████████████████████████████████████████████████████████████████████████████████████████| 91/91 [00:00<00:00, 141.08it/s, loss=103, cosine=0.14]\n"
     ]
    },
    {
     "name": "stdout",
     "output_type": "stream",
     "text": [
      "Epoch 8/50: Train Loss = 84.1198, Train Cosine = 0.1279, Val Loss = 100.5215, Val Cosine = 0.0655\n",
      "Saved best model checkpoint for fold 1 (Val Cosine: 0.0655).\n"
     ]
    },
    {
     "name": "stderr",
     "output_type": "stream",
     "text": [
      "Fold 1, Epoch 9/50: 100%|███████████████████████████████████████████████████████████████████████████████████████████████████████████████████████████████| 91/91 [00:00<00:00, 142.26it/s, loss=101, cosine=0.13]\n"
     ]
    },
    {
     "name": "stdout",
     "output_type": "stream",
     "text": [
      "Epoch 9/50: Train Loss = 83.9738, Train Cosine = 0.1387, Val Loss = 100.5678, Val Cosine = 0.0629\n"
     ]
    },
    {
     "name": "stderr",
     "output_type": "stream",
     "text": [
      "Fold 1, Epoch 10/50: 100%|████████████████████████████████████████████████████████████████████████████████████████████████████████████████████████████| 91/91 [00:00<00:00, 135.89it/s, loss=84.5, cosine=0.117]\n"
     ]
    },
    {
     "name": "stdout",
     "output_type": "stream",
     "text": [
      "Epoch 10/50: Train Loss = 83.8738, Train Cosine = 0.1469, Val Loss = 100.5963, Val Cosine = 0.0553\n"
     ]
    },
    {
     "name": "stderr",
     "output_type": "stream",
     "text": [
      "Fold 1, Epoch 11/50: 100%|██████████████████████████████████████████████████████████████████████████████████████████████████████████████████████████████| 91/91 [00:00<00:00, 138.34it/s, loss=84, cosine=0.149]\n"
     ]
    },
    {
     "name": "stdout",
     "output_type": "stream",
     "text": [
      "Epoch 11/50: Train Loss = 83.7774, Train Cosine = 0.1557, Val Loss = 100.4405, Val Cosine = 0.0685\n",
      "Saved best model checkpoint for fold 1 (Val Cosine: 0.0685).\n"
     ]
    },
    {
     "name": "stderr",
     "output_type": "stream",
     "text": [
      "Fold 1, Epoch 12/50: 100%|█████████████████████████████████████████████████████████████████████████████████████████████████████████████████████████████| 91/91 [00:00<00:00, 133.02it/s, loss=80.2, cosine=0.14]\n"
     ]
    },
    {
     "name": "stdout",
     "output_type": "stream",
     "text": [
      "Epoch 12/50: Train Loss = 83.7165, Train Cosine = 0.1601, Val Loss = 100.7579, Val Cosine = 0.0362\n"
     ]
    },
    {
     "name": "stderr",
     "output_type": "stream",
     "text": [
      "Fold 1, Epoch 13/50: 100%|████████████████████████████████████████████████████████████████████████████████████████████████████████████████████████████| 91/91 [00:00<00:00, 139.04it/s, loss=85.8, cosine=0.133]\n"
     ]
    },
    {
     "name": "stdout",
     "output_type": "stream",
     "text": [
      "Epoch 13/50: Train Loss = 83.6176, Train Cosine = 0.1678, Val Loss = 100.4395, Val Cosine = 0.0699\n",
      "Saved best model checkpoint for fold 1 (Val Cosine: 0.0699).\n"
     ]
    },
    {
     "name": "stderr",
     "output_type": "stream",
     "text": [
      "Fold 1, Epoch 14/50: 100%|████████████████████████████████████████████████████████████████████████████████████████████████████████████████████████████| 91/91 [00:00<00:00, 136.07it/s, loss=85.7, cosine=0.116]\n"
     ]
    },
    {
     "name": "stdout",
     "output_type": "stream",
     "text": [
      "Epoch 14/50: Train Loss = 83.5077, Train Cosine = 0.1755, Val Loss = 100.5479, Val Cosine = 0.0608\n"
     ]
    },
    {
     "name": "stderr",
     "output_type": "stream",
     "text": [
      "Fold 1, Epoch 15/50: 100%|████████████████████████████████████████████████████████████████████████████████████████████████████████████████████████████| 91/91 [00:00<00:00, 136.95it/s, loss=79.8, cosine=0.183]\n"
     ]
    },
    {
     "name": "stdout",
     "output_type": "stream",
     "text": [
      "Epoch 15/50: Train Loss = 83.4350, Train Cosine = 0.1812, Val Loss = 100.8326, Val Cosine = 0.0427\n"
     ]
    },
    {
     "name": "stderr",
     "output_type": "stream",
     "text": [
      "Fold 1, Epoch 16/50: 100%|████████████████████████████████████████████████████████████████████████████████████████████████████████████████████████████| 91/91 [00:00<00:00, 137.12it/s, loss=96.6, cosine=0.156]\n"
     ]
    },
    {
     "name": "stdout",
     "output_type": "stream",
     "text": [
      "Epoch 16/50: Train Loss = 83.4029, Train Cosine = 0.1826, Val Loss = 100.5829, Val Cosine = 0.0620\n"
     ]
    },
    {
     "name": "stderr",
     "output_type": "stream",
     "text": [
      "Fold 1, Epoch 17/50: 100%|████████████████████████████████████████████████████████████████████████████████████████████████████████████████████████████| 91/91 [00:00<00:00, 132.88it/s, loss=90.6, cosine=0.142]\n"
     ]
    },
    {
     "name": "stdout",
     "output_type": "stream",
     "text": [
      "Epoch 17/50: Train Loss = 83.2902, Train Cosine = 0.1901, Val Loss = 100.8609, Val Cosine = 0.0405\n"
     ]
    },
    {
     "name": "stderr",
     "output_type": "stream",
     "text": [
      "Fold 1, Epoch 18/50: 100%|████████████████████████████████████████████████████████████████████████████████████████████████████████████████████████████| 91/91 [00:00<00:00, 136.65it/s, loss=90.2, cosine=0.205]\n"
     ]
    },
    {
     "name": "stdout",
     "output_type": "stream",
     "text": [
      "Epoch 18/50: Train Loss = 83.2327, Train Cosine = 0.1934, Val Loss = 100.4718, Val Cosine = 0.0621\n"
     ]
    },
    {
     "name": "stderr",
     "output_type": "stream",
     "text": [
      "Fold 1, Epoch 19/50: 100%|█████████████████████████████████████████████████████████████████████████████████████████████████████████████████████████████| 91/91 [00:00<00:00, 137.56it/s, loss=100, cosine=0.206]\n"
     ]
    },
    {
     "name": "stdout",
     "output_type": "stream",
     "text": [
      "Epoch 19/50: Train Loss = 83.1164, Train Cosine = 0.2028, Val Loss = 100.3673, Val Cosine = 0.0732\n",
      "Saved best model checkpoint for fold 1 (Val Cosine: 0.0732).\n"
     ]
    },
    {
     "name": "stderr",
     "output_type": "stream",
     "text": [
      "Fold 1, Epoch 20/50: 100%|████████████████████████████████████████████████████████████████████████████████████████████████████████████████████████████| 91/91 [00:00<00:00, 137.20it/s, loss=81.4, cosine=0.215]\n"
     ]
    },
    {
     "name": "stdout",
     "output_type": "stream",
     "text": [
      "Epoch 20/50: Train Loss = 83.0741, Train Cosine = 0.2042, Val Loss = 100.6335, Val Cosine = 0.0568\n"
     ]
    },
    {
     "name": "stderr",
     "output_type": "stream",
     "text": [
      "Fold 1, Epoch 21/50: 100%|█████████████████████████████████████████████████████████████████████████████████████████████████████████████████████████████| 91/91 [00:00<00:00, 134.20it/s, loss=102, cosine=0.236]\n"
     ]
    },
    {
     "name": "stdout",
     "output_type": "stream",
     "text": [
      "Epoch 21/50: Train Loss = 82.9470, Train Cosine = 0.2132, Val Loss = 100.4211, Val Cosine = 0.0691\n"
     ]
    },
    {
     "name": "stderr",
     "output_type": "stream",
     "text": [
      "Fold 1, Epoch 22/50: 100%|█████████████████████████████████████████████████████████████████████████████████████████████████████████████████████████████| 91/91 [00:00<00:00, 135.93it/s, loss=87.4, cosine=0.25]\n"
     ]
    },
    {
     "name": "stdout",
     "output_type": "stream",
     "text": [
      "Epoch 22/50: Train Loss = 82.9271, Train Cosine = 0.2141, Val Loss = 100.6689, Val Cosine = 0.0492\n"
     ]
    },
    {
     "name": "stderr",
     "output_type": "stream",
     "text": [
      "Fold 1, Epoch 23/50: 100%|████████████████████████████████████████████████████████████████████████████████████████████████████████████████████████████| 91/91 [00:00<00:00, 132.31it/s, loss=87.3, cosine=0.244]\n"
     ]
    },
    {
     "name": "stdout",
     "output_type": "stream",
     "text": [
      "Epoch 23/50: Train Loss = 82.7972, Train Cosine = 0.2223, Val Loss = 100.3393, Val Cosine = 0.0775\n",
      "Saved best model checkpoint for fold 1 (Val Cosine: 0.0775).\n"
     ]
    },
    {
     "name": "stderr",
     "output_type": "stream",
     "text": [
      "Fold 1, Epoch 24/50: 100%|██████████████████████████████████████████████████████████████████████████████████████████████████████████████████████████████| 91/91 [00:00<00:00, 135.03it/s, loss=80, cosine=0.191]\n"
     ]
    },
    {
     "name": "stdout",
     "output_type": "stream",
     "text": [
      "Epoch 24/50: Train Loss = 82.7564, Train Cosine = 0.2242, Val Loss = 100.3323, Val Cosine = 0.0774\n"
     ]
    },
    {
     "name": "stderr",
     "output_type": "stream",
     "text": [
      "Fold 1, Epoch 25/50: 100%|█████████████████████████████████████████████████████████████████████████████████████████████████████████████████████████████| 91/91 [00:00<00:00, 123.19it/s, loss=82.3, cosine=0.24]\n"
     ]
    },
    {
     "name": "stdout",
     "output_type": "stream",
     "text": [
      "Epoch 25/50: Train Loss = 82.6949, Train Cosine = 0.2277, Val Loss = 100.6945, Val Cosine = 0.0501\n"
     ]
    },
    {
     "name": "stderr",
     "output_type": "stream",
     "text": [
      "Fold 1, Epoch 26/50: 100%|████████████████████████████████████████████████████████████████████████████████████████████████████████████████████████████| 91/91 [00:00<00:00, 126.76it/s, loss=68.1, cosine=0.235]\n"
     ]
    },
    {
     "name": "stdout",
     "output_type": "stream",
     "text": [
      "Epoch 26/50: Train Loss = 82.6607, Train Cosine = 0.2292, Val Loss = 100.3181, Val Cosine = 0.0776\n",
      "Saved best model checkpoint for fold 1 (Val Cosine: 0.0776).\n"
     ]
    },
    {
     "name": "stderr",
     "output_type": "stream",
     "text": [
      "Fold 1, Epoch 27/50: 100%|█████████████████████████████████████████████████████████████████████████████████████████████████████████████████████████████| 91/91 [00:00<00:00, 134.89it/s, loss=102, cosine=0.265]\n"
     ]
    },
    {
     "name": "stdout",
     "output_type": "stream",
     "text": [
      "Epoch 27/50: Train Loss = 82.5129, Train Cosine = 0.2381, Val Loss = 100.5283, Val Cosine = 0.0630\n"
     ]
    },
    {
     "name": "stderr",
     "output_type": "stream",
     "text": [
      "Fold 1, Epoch 28/50: 100%|█████████████████████████████████████████████████████████████████████████████████████████████████████████████████████████████| 91/91 [00:00<00:00, 134.25it/s, loss=106, cosine=0.189]\n"
     ]
    },
    {
     "name": "stdout",
     "output_type": "stream",
     "text": [
      "Epoch 28/50: Train Loss = 82.4722, Train Cosine = 0.2401, Val Loss = 100.2919, Val Cosine = 0.0806\n",
      "Saved best model checkpoint for fold 1 (Val Cosine: 0.0806).\n"
     ]
    },
    {
     "name": "stderr",
     "output_type": "stream",
     "text": [
      "Fold 1, Epoch 29/50: 100%|████████████████████████████████████████████████████████████████████████████████████████████████████████████████████████████| 91/91 [00:00<00:00, 123.71it/s, loss=85.7, cosine=0.243]\n"
     ]
    },
    {
     "name": "stdout",
     "output_type": "stream",
     "text": [
      "Epoch 29/50: Train Loss = 82.4346, Train Cosine = 0.2424, Val Loss = 100.5828, Val Cosine = 0.0619\n"
     ]
    },
    {
     "name": "stderr",
     "output_type": "stream",
     "text": [
      "Fold 1, Epoch 30/50: 100%|████████████████████████████████████████████████████████████████████████████████████████████████████████████████████████████| 91/91 [00:00<00:00, 116.20it/s, loss=93.6, cosine=0.202]\n"
     ]
    },
    {
     "name": "stdout",
     "output_type": "stream",
     "text": [
      "Epoch 30/50: Train Loss = 82.3321, Train Cosine = 0.2485, Val Loss = 100.3398, Val Cosine = 0.0798\n"
     ]
    },
    {
     "name": "stderr",
     "output_type": "stream",
     "text": [
      "Fold 1, Epoch 31/50: 100%|████████████████████████████████████████████████████████████████████████████████████████████████████████████████████████████| 91/91 [00:00<00:00, 120.60it/s, loss=97.4, cosine=0.236]\n"
     ]
    },
    {
     "name": "stdout",
     "output_type": "stream",
     "text": [
      "Epoch 31/50: Train Loss = 82.2768, Train Cosine = 0.2514, Val Loss = 100.2389, Val Cosine = 0.0835\n",
      "Saved best model checkpoint for fold 1 (Val Cosine: 0.0835).\n"
     ]
    },
    {
     "name": "stderr",
     "output_type": "stream",
     "text": [
      "Fold 1, Epoch 32/50: 100%|████████████████████████████████████████████████████████████████████████████████████████████████████████████████████████████| 91/91 [00:00<00:00, 133.14it/s, loss=81.1, cosine=0.248]\n"
     ]
    },
    {
     "name": "stdout",
     "output_type": "stream",
     "text": [
      "Epoch 32/50: Train Loss = 82.2258, Train Cosine = 0.2544, Val Loss = 100.2117, Val Cosine = 0.0854\n",
      "Saved best model checkpoint for fold 1 (Val Cosine: 0.0854).\n"
     ]
    },
    {
     "name": "stderr",
     "output_type": "stream",
     "text": [
      "Fold 1, Epoch 33/50: 100%|████████████████████████████████████████████████████████████████████████████████████████████████████████████████████████████| 91/91 [00:00<00:00, 132.85it/s, loss=94.5, cosine=0.252]\n"
     ]
    },
    {
     "name": "stdout",
     "output_type": "stream",
     "text": [
      "Epoch 33/50: Train Loss = 82.1295, Train Cosine = 0.2603, Val Loss = 100.2632, Val Cosine = 0.0791\n"
     ]
    },
    {
     "name": "stderr",
     "output_type": "stream",
     "text": [
      "Fold 1, Epoch 34/50: 100%|████████████████████████████████████████████████████████████████████████████████████████████████████████████████████████████| 91/91 [00:00<00:00, 132.99it/s, loss=93.7, cosine=0.211]\n"
     ]
    },
    {
     "name": "stdout",
     "output_type": "stream",
     "text": [
      "Epoch 34/50: Train Loss = 82.0665, Train Cosine = 0.2628, Val Loss = 100.3284, Val Cosine = 0.0746\n"
     ]
    },
    {
     "name": "stderr",
     "output_type": "stream",
     "text": [
      "Fold 1, Epoch 35/50: 100%|████████████████████████████████████████████████████████████████████████████████████████████████████████████████████████████| 91/91 [00:00<00:00, 133.25it/s, loss=66.8, cosine=0.268]\n"
     ]
    },
    {
     "name": "stdout",
     "output_type": "stream",
     "text": [
      "Epoch 35/50: Train Loss = 82.0718, Train Cosine = 0.2627, Val Loss = 100.3899, Val Cosine = 0.0758\n"
     ]
    },
    {
     "name": "stderr",
     "output_type": "stream",
     "text": [
      "Fold 1, Epoch 36/50: 100%|████████████████████████████████████████████████████████████████████████████████████████████████████████████████████████████| 91/91 [00:00<00:00, 131.01it/s, loss=82.4, cosine=0.258]\n"
     ]
    },
    {
     "name": "stdout",
     "output_type": "stream",
     "text": [
      "Epoch 36/50: Train Loss = 81.9559, Train Cosine = 0.2687, Val Loss = 100.0959, Val Cosine = 0.0886\n",
      "Saved best model checkpoint for fold 1 (Val Cosine: 0.0886).\n"
     ]
    },
    {
     "name": "stderr",
     "output_type": "stream",
     "text": [
      "Fold 1, Epoch 37/50: 100%|████████████████████████████████████████████████████████████████████████████████████████████████████████████████████████████| 91/91 [00:00<00:00, 133.22it/s, loss=93.8, cosine=0.272]\n"
     ]
    },
    {
     "name": "stdout",
     "output_type": "stream",
     "text": [
      "Epoch 37/50: Train Loss = 81.8874, Train Cosine = 0.2730, Val Loss = 100.1181, Val Cosine = 0.0906\n",
      "Saved best model checkpoint for fold 1 (Val Cosine: 0.0906).\n"
     ]
    },
    {
     "name": "stderr",
     "output_type": "stream",
     "text": [
      "Fold 1, Epoch 38/50: 100%|████████████████████████████████████████████████████████████████████████████████████████████████████████████████████████████| 91/91 [00:00<00:00, 128.62it/s, loss=74.3, cosine=0.192]\n"
     ]
    },
    {
     "name": "stdout",
     "output_type": "stream",
     "text": [
      "Epoch 38/50: Train Loss = 81.8183, Train Cosine = 0.2760, Val Loss = 100.2500, Val Cosine = 0.0866\n"
     ]
    },
    {
     "name": "stderr",
     "output_type": "stream",
     "text": [
      "Fold 1, Epoch 39/50: 100%|████████████████████████████████████████████████████████████████████████████████████████████████████████████████████████████| 91/91 [00:00<00:00, 132.26it/s, loss=80.1, cosine=0.336]\n"
     ]
    },
    {
     "name": "stdout",
     "output_type": "stream",
     "text": [
      "Epoch 39/50: Train Loss = 81.8020, Train Cosine = 0.2763, Val Loss = 100.5673, Val Cosine = 0.0639\n"
     ]
    },
    {
     "name": "stderr",
     "output_type": "stream",
     "text": [
      "Fold 1, Epoch 40/50: 100%|████████████████████████████████████████████████████████████████████████████████████████████████████████████████████████████| 91/91 [00:00<00:00, 131.78it/s, loss=76.6, cosine=0.287]\n"
     ]
    },
    {
     "name": "stdout",
     "output_type": "stream",
     "text": [
      "Epoch 40/50: Train Loss = 81.6684, Train Cosine = 0.2851, Val Loss = 100.5424, Val Cosine = 0.0685\n"
     ]
    },
    {
     "name": "stderr",
     "output_type": "stream",
     "text": [
      "Fold 1, Epoch 41/50: 100%|████████████████████████████████████████████████████████████████████████████████████████████████████████████████████████████| 91/91 [00:00<00:00, 131.82it/s, loss=82.5, cosine=0.264]\n"
     ]
    },
    {
     "name": "stdout",
     "output_type": "stream",
     "text": [
      "Epoch 41/50: Train Loss = 81.6005, Train Cosine = 0.2886, Val Loss = 100.0472, Val Cosine = 0.0940\n",
      "Saved best model checkpoint for fold 1 (Val Cosine: 0.0940).\n"
     ]
    },
    {
     "name": "stderr",
     "output_type": "stream",
     "text": [
      "Fold 1, Epoch 42/50: 100%|████████████████████████████████████████████████████████████████████████████████████████████████████████████████████████████| 91/91 [00:00<00:00, 131.40it/s, loss=80.9, cosine=0.277]\n"
     ]
    },
    {
     "name": "stdout",
     "output_type": "stream",
     "text": [
      "Epoch 42/50: Train Loss = 81.5685, Train Cosine = 0.2908, Val Loss = 100.3790, Val Cosine = 0.0763\n"
     ]
    },
    {
     "name": "stderr",
     "output_type": "stream",
     "text": [
      "Fold 1, Epoch 43/50: 100%|█████████████████████████████████████████████████████████████████████████████████████████████████████████████████████████████| 91/91 [00:00<00:00, 130.07it/s, loss=74.8, cosine=0.31]\n"
     ]
    },
    {
     "name": "stdout",
     "output_type": "stream",
     "text": [
      "Epoch 43/50: Train Loss = 81.4712, Train Cosine = 0.2964, Val Loss = 100.3282, Val Cosine = 0.0792\n"
     ]
    },
    {
     "name": "stderr",
     "output_type": "stream",
     "text": [
      "Fold 1, Epoch 44/50: 100%|████████████████████████████████████████████████████████████████████████████████████████████████████████████████████████████| 91/91 [00:00<00:00, 130.85it/s, loss=73.4, cosine=0.289]\n"
     ]
    },
    {
     "name": "stdout",
     "output_type": "stream",
     "text": [
      "Epoch 44/50: Train Loss = 81.4258, Train Cosine = 0.2979, Val Loss = 100.6475, Val Cosine = 0.0605\n"
     ]
    },
    {
     "name": "stderr",
     "output_type": "stream",
     "text": [
      "Fold 1, Epoch 45/50: 100%|████████████████████████████████████████████████████████████████████████████████████████████████████████████████████████████| 91/91 [00:00<00:00, 131.67it/s, loss=78.1, cosine=0.242]\n"
     ]
    },
    {
     "name": "stdout",
     "output_type": "stream",
     "text": [
      "Epoch 45/50: Train Loss = 81.4202, Train Cosine = 0.2978, Val Loss = 100.1731, Val Cosine = 0.0869\n"
     ]
    },
    {
     "name": "stderr",
     "output_type": "stream",
     "text": [
      "Fold 1, Epoch 46/50: 100%|████████████████████████████████████████████████████████████████████████████████████████████████████████████████████████████| 91/91 [00:00<00:00, 131.83it/s, loss=71.7, cosine=0.222]\n"
     ]
    },
    {
     "name": "stdout",
     "output_type": "stream",
     "text": [
      "Epoch 46/50: Train Loss = 81.3296, Train Cosine = 0.3037, Val Loss = 100.4638, Val Cosine = 0.0724\n"
     ]
    },
    {
     "name": "stderr",
     "output_type": "stream",
     "text": [
      "Fold 1, Epoch 47/50: 100%|████████████████████████████████████████████████████████████████████████████████████████████████████████████████████████████| 91/91 [00:00<00:00, 130.50it/s, loss=74.9, cosine=0.353]\n"
     ]
    },
    {
     "name": "stdout",
     "output_type": "stream",
     "text": [
      "Epoch 47/50: Train Loss = 81.2862, Train Cosine = 0.3054, Val Loss = 100.2213, Val Cosine = 0.0840\n"
     ]
    },
    {
     "name": "stderr",
     "output_type": "stream",
     "text": [
      "Fold 1, Epoch 48/50: 100%|██████████████████████████████████████████████████████████████████████████████████████████████████████████████████████████████| 91/91 [00:00<00:00, 130.18it/s, loss=79.2, cosine=0.3]\n"
     ]
    },
    {
     "name": "stdout",
     "output_type": "stream",
     "text": [
      "Epoch 48/50: Train Loss = 81.2741, Train Cosine = 0.3053, Val Loss = 100.2870, Val Cosine = 0.0800\n"
     ]
    },
    {
     "name": "stderr",
     "output_type": "stream",
     "text": [
      "Fold 1, Epoch 49/50: 100%|█████████████████████████████████████████████████████████████████████████████████████████████████████████████████████████████| 91/91 [00:00<00:00, 129.16it/s, loss=102, cosine=0.294]\n"
     ]
    },
    {
     "name": "stdout",
     "output_type": "stream",
     "text": [
      "Epoch 49/50: Train Loss = 81.2211, Train Cosine = 0.3082, Val Loss = 100.4357, Val Cosine = 0.0751\n"
     ]
    },
    {
     "name": "stderr",
     "output_type": "stream",
     "text": [
      "Fold 1, Epoch 50/50: 100%|████████████████████████████████████████████████████████████████████████████████████████████████████████████████████████████| 91/91 [00:00<00:00, 129.30it/s, loss=92.5, cosine=0.277]\n",
      "/var/folders/z7/qrc5k22j2qq05jzdksv8hd_00000gn/T/ipykernel_19736/1535775755.py:356: FutureWarning: You are using `torch.load` with `weights_only=False` (the current default value), which uses the default pickle module implicitly. It is possible to construct malicious pickle data which will execute arbitrary code during unpickling (See https://github.com/pytorch/pytorch/blob/main/SECURITY.md#untrusted-models for more details). In a future release, the default value for `weights_only` will be flipped to `True`. This limits the functions that could be executed during unpickling. Arbitrary objects will no longer be allowed to be loaded via this mode unless they are explicitly allowlisted by the user via `torch.serialization.add_safe_globals`. We recommend you start setting `weights_only=True` for any use case where you don't have full control of the loaded file. Please open an issue on GitHub for any issues related to this experimental feature.\n",
      "  model.load_state_dict(torch.load(f'best_pitom_model_fold{fold+1}.pt'))\n"
     ]
    },
    {
     "name": "stdout",
     "output_type": "stream",
     "text": [
      "Epoch 50/50: Train Loss = 81.1552, Train Cosine = 0.3121, Val Loss = 100.3960, Val Cosine = 0.0779\n",
      "Found 50 words with at least 5 repetitions (18.6% of unique words)\n"
     ]
    },
    {
     "name": "stderr",
     "output_type": "stream",
     "text": [
      "/var/folders/z7/qrc5k22j2qq05jzdksv8hd_00000gn/T/ipykernel_19736/1535775755.py:40: UserWarning: To copy construct from a tensor, it is recommended to use sourceTensor.clone().detach() or sourceTensor.clone().detach().requires_grad_(True), rather than torch.tensor(sourceTensor).\n",
      "  input_data = torch.tensor(X[i:i+1], dtype=torch.float32)\n"
     ]
    },
    {
     "name": "stdout",
     "output_type": "stream",
     "text": [
      "\n",
      "Fold 1 Test Results: Loss = 86.0663, Cosine Similarity = 0.0803\n"
     ]
    },
    {
     "data": {
      "image/png": "[encoded data removed]",
      "text/plain": [
       "<Figure size 1000x600 with 1 Axes>"
      ]
     },
     "metadata": {},
     "output_type": "display_data"
    },
    {
     "data": {
      "image/png": "[encoded data removed]",
      "text/plain": [
       "<Figure size 1500x500 with 2 Axes>"
      ]
     },
     "metadata": {},
     "output_type": "display_data"
    },
    {
     "name": "stdout",
     "output_type": "stream",
     "text": [
      "\n",
      "==================================================\n",
      "FOLD 2/5\n",
      "==================================================\n"
     ]
    },
    {
     "name": "stderr",
     "output_type": "stream",
     "text": [
      "Fold 2, Epoch 1/50: 100%|██████████████████████████████████████████████████████████████████████████████████████████████████████████████████████████| 103/103 [00:00<00:00, 135.98it/s, loss=128, cosine=0.00365]\n"
     ]
    },
    {
     "name": "stdout",
     "output_type": "stream",
     "text": [
      "Epoch 1/50: Train Loss = 88.9478, Train Cosine = 0.0261, Val Loss = 84.1399, Val Cosine = -0.0145\n",
      "Saved best model checkpoint for fold 2 (Val Cosine: -0.0145).\n"
     ]
    },
    {
     "name": "stderr",
     "output_type": "stream",
     "text": [
      "Fold 2, Epoch 2/50: 100%|█████████████████████████████████████████████████████████████████████████████████████████████████████████████████████████| 103/103 [00:00<00:00, 133.41it/s, loss=75.3, cosine=-0.0456]\n"
     ]
    },
    {
     "name": "stdout",
     "output_type": "stream",
     "text": [
      "Epoch 2/50: Train Loss = 88.8255, Train Cosine = 0.0351, Val Loss = 84.0982, Val Cosine = -0.0155\n"
     ]
    },
    {
     "name": "stderr",
     "output_type": "stream",
     "text": [
      "Fold 2, Epoch 3/50: 100%|███████████████████████████████████████████████████████████████████████████████████████████████████████████████████████████| 103/103 [00:00<00:00, 132.45it/s, loss=107, cosine=0.0478]\n"
     ]
    },
    {
     "name": "stdout",
     "output_type": "stream",
     "text": [
      "Epoch 3/50: Train Loss = 88.7863, Train Cosine = 0.0387, Val Loss = 84.0134, Val Cosine = -0.0087\n",
      "Saved best model checkpoint for fold 2 (Val Cosine: -0.0087).\n"
     ]
    },
    {
     "name": "stderr",
     "output_type": "stream",
     "text": [
      "Fold 2, Epoch 4/50: 100%|████████████████████████████████████████████████████████████████████████████████████████████████████████████████████████████| 103/103 [00:00<00:00, 131.64it/s, loss=82, cosine=0.0625]\n"
     ]
    },
    {
     "name": "stdout",
     "output_type": "stream",
     "text": [
      "Epoch 4/50: Train Loss = 88.7152, Train Cosine = 0.0469, Val Loss = 84.0381, Val Cosine = -0.0136\n"
     ]
    },
    {
     "name": "stderr",
     "output_type": "stream",
     "text": [
      "Fold 2, Epoch 5/50: 100%|██████████████████████████████████████████████████████████████████████████████████████████████████████████████████████████| 103/103 [00:00<00:00, 131.57it/s, loss=81.5, cosine=0.0614]\n"
     ]
    },
    {
     "name": "stdout",
     "output_type": "stream",
     "text": [
      "Epoch 5/50: Train Loss = 88.4533, Train Cosine = 0.0778, Val Loss = 83.9898, Val Cosine = 0.0001\n",
      "Saved best model checkpoint for fold 2 (Val Cosine: 0.0001).\n"
     ]
    },
    {
     "name": "stderr",
     "output_type": "stream",
     "text": [
      "Fold 2, Epoch 6/50: 100%|██████████████████████████████████████████████████████████████████████████████████████████████████████████████████████████| 103/103 [00:00<00:00, 128.15it/s, loss=87.1, cosine=0.0941]\n"
     ]
    },
    {
     "name": "stdout",
     "output_type": "stream",
     "text": [
      "Epoch 6/50: Train Loss = 88.2354, Train Cosine = 0.0968, Val Loss = 83.8349, Val Cosine = 0.0232\n",
      "Saved best model checkpoint for fold 2 (Val Cosine: 0.0232).\n"
     ]
    },
    {
     "name": "stderr",
     "output_type": "stream",
     "text": [
      "Fold 2, Epoch 7/50: 100%|███████████████████████████████████████████████████████████████████████████████████████████████████████████████████████████| 103/103 [00:00<00:00, 123.01it/s, loss=85.7, cosine=0.163]\n"
     ]
    },
    {
     "name": "stdout",
     "output_type": "stream",
     "text": [
      "Epoch 7/50: Train Loss = 88.0455, Train Cosine = 0.1114, Val Loss = 83.4805, Val Cosine = 0.0516\n",
      "Saved best model checkpoint for fold 2 (Val Cosine: 0.0516).\n"
     ]
    },
    {
     "name": "stderr",
     "output_type": "stream",
     "text": [
      "Fold 2, Epoch 8/50: 100%|███████████████████████████████████████████████████████████████████████████████████████████████████████████████████████████| 103/103 [00:00<00:00, 128.20it/s, loss=94.2, cosine=0.119]\n"
     ]
    },
    {
     "name": "stdout",
     "output_type": "stream",
     "text": [
      "Epoch 8/50: Train Loss = 87.9205, Train Cosine = 0.1184, Val Loss = 83.4156, Val Cosine = 0.0586\n",
      "Saved best model checkpoint for fold 2 (Val Cosine: 0.0586).\n"
     ]
    },
    {
     "name": "stderr",
     "output_type": "stream",
     "text": [
      "Fold 2, Epoch 9/50: 100%|███████████████████████████████████████████████████████████████████████████████████████████████████████████████████████████| 103/103 [00:00<00:00, 127.89it/s, loss=79.9, cosine=0.184]\n"
     ]
    },
    {
     "name": "stdout",
     "output_type": "stream",
     "text": [
      "Epoch 9/50: Train Loss = 87.7776, Train Cosine = 0.1315, Val Loss = 83.3198, Val Cosine = 0.0688\n",
      "Saved best model checkpoint for fold 2 (Val Cosine: 0.0688).\n"
     ]
    },
    {
     "name": "stderr",
     "output_type": "stream",
     "text": [
      "Fold 2, Epoch 10/50: 100%|█████████████████████████████████████████████████████████████████████████████████████████████████████████████████████████| 103/103 [00:00<00:00, 126.47it/s, loss=97.4, cosine=0.0947]\n"
     ]
    },
    {
     "name": "stdout",
     "output_type": "stream",
     "text": [
      "Epoch 10/50: Train Loss = 87.6880, Train Cosine = 0.1407, Val Loss = 83.5322, Val Cosine = 0.0507\n"
     ]
    },
    {
     "name": "stderr",
     "output_type": "stream",
     "text": [
      "Fold 2, Epoch 11/50: 100%|██████████████████████████████████████████████████████████████████████████████████████████████████████████████████████████| 103/103 [00:00<00:00, 124.79it/s, loss=79.7, cosine=0.167]\n"
     ]
    },
    {
     "name": "stdout",
     "output_type": "stream",
     "text": [
      "Epoch 11/50: Train Loss = 87.5984, Train Cosine = 0.1471, Val Loss = 83.3814, Val Cosine = 0.0645\n"
     ]
    },
    {
     "name": "stderr",
     "output_type": "stream",
     "text": [
      "Fold 2, Epoch 12/50: 100%|███████████████████████████████████████████████████████████████████████████████████████████████████████████████████████████| 103/103 [00:00<00:00, 128.42it/s, loss=102, cosine=0.155]\n"
     ]
    },
    {
     "name": "stdout",
     "output_type": "stream",
     "text": [
      "Epoch 12/50: Train Loss = 87.5506, Train Cosine = 0.1514, Val Loss = 83.0610, Val Cosine = 0.0876\n",
      "Saved best model checkpoint for fold 2 (Val Cosine: 0.0876).\n"
     ]
    },
    {
     "name": "stderr",
     "output_type": "stream",
     "text": [
      "Fold 2, Epoch 13/50: 100%|██████████████████████████████████████████████████████████████████████████████████████████████████████████████████████████| 103/103 [00:00<00:00, 128.02it/s, loss=94.6, cosine=0.178]\n"
     ]
    },
    {
     "name": "stdout",
     "output_type": "stream",
     "text": [
      "Epoch 13/50: Train Loss = 87.4384, Train Cosine = 0.1594, Val Loss = 83.1399, Val Cosine = 0.0847\n"
     ]
    },
    {
     "name": "stderr",
     "output_type": "stream",
     "text": [
      "Fold 2, Epoch 14/50: 100%|██████████████████████████████████████████████████████████████████████████████████████████████████████████████████████████| 103/103 [00:00<00:00, 127.59it/s, loss=96.6, cosine=0.178]\n"
     ]
    },
    {
     "name": "stdout",
     "output_type": "stream",
     "text": [
      "Epoch 14/50: Train Loss = 87.3556, Train Cosine = 0.1661, Val Loss = 83.1401, Val Cosine = 0.0816\n"
     ]
    },
    {
     "name": "stderr",
     "output_type": "stream",
     "text": [
      "Fold 2, Epoch 15/50: 100%|███████████████████████████████████████████████████████████████████████████████████████████████████████████████████████████| 103/103 [00:00<00:00, 123.24it/s, loss=128, cosine=0.154]\n"
     ]
    },
    {
     "name": "stdout",
     "output_type": "stream",
     "text": [
      "Epoch 15/50: Train Loss = 87.2688, Train Cosine = 0.1724, Val Loss = 82.9960, Val Cosine = 0.0923\n",
      "Saved best model checkpoint for fold 2 (Val Cosine: 0.0923).\n"
     ]
    },
    {
     "name": "stderr",
     "output_type": "stream",
     "text": [
      "Fold 2, Epoch 16/50: 100%|██████████████████████████████████████████████████████████████████████████████████████████████████████████████████████████| 103/103 [00:00<00:00, 126.74it/s, loss=94.6, cosine=0.227]\n"
     ]
    },
    {
     "name": "stdout",
     "output_type": "stream",
     "text": [
      "Epoch 16/50: Train Loss = 87.1719, Train Cosine = 0.1790, Val Loss = 83.1384, Val Cosine = 0.0812\n"
     ]
    },
    {
     "name": "stderr",
     "output_type": "stream",
     "text": [
      "Fold 2, Epoch 17/50: 100%|██████████████████████████████████████████████████████████████████████████████████████████████████████████████████████████| 103/103 [00:00<00:00, 127.40it/s, loss=77.6, cosine=0.183]\n"
     ]
    },
    {
     "name": "stdout",
     "output_type": "stream",
     "text": [
      "Epoch 17/50: Train Loss = 87.1221, Train Cosine = 0.1819, Val Loss = 83.0374, Val Cosine = 0.0917\n"
     ]
    },
    {
     "name": "stderr",
     "output_type": "stream",
     "text": [
      "Fold 2, Epoch 18/50: 100%|███████████████████████████████████████████████████████████████████████████████████████████████████████████████████████████| 103/103 [00:00<00:00, 125.14it/s, loss=77.5, cosine=0.11]\n"
     ]
    },
    {
     "name": "stdout",
     "output_type": "stream",
     "text": [
      "Epoch 18/50: Train Loss = 87.0867, Train Cosine = 0.1841, Val Loss = 83.0312, Val Cosine = 0.0864\n"
     ]
    },
    {
     "name": "stderr",
     "output_type": "stream",
     "text": [
      "Fold 2, Epoch 19/50: 100%|███████████████████████████████████████████████████████████████████████████████████████████████████████████████████████████| 103/103 [00:00<00:00, 123.13it/s, loss=87.5, cosine=0.21]\n"
     ]
    },
    {
     "name": "stdout",
     "output_type": "stream",
     "text": [
      "Epoch 19/50: Train Loss = 87.0382, Train Cosine = 0.1867, Val Loss = 83.4930, Val Cosine = 0.0490\n"
     ]
    },
    {
     "name": "stderr",
     "output_type": "stream",
     "text": [
      "Fold 2, Epoch 20/50: 100%|███████████████████████████████████████████████████████████████████████████████████████████████████████████████████████████| 103/103 [00:00<00:00, 126.89it/s, loss=82.1, cosine=0.23]\n"
     ]
    },
    {
     "name": "stdout",
     "output_type": "stream",
     "text": [
      "Epoch 20/50: Train Loss = 86.9712, Train Cosine = 0.1909, Val Loss = 82.9994, Val Cosine = 0.0951\n",
      "Saved best model checkpoint for fold 2 (Val Cosine: 0.0951).\n"
     ]
    },
    {
     "name": "stderr",
     "output_type": "stream",
     "text": [
      "Fold 2, Epoch 21/50: 100%|██████████████████████████████████████████████████████████████████████████████████████████████████████████████████████████| 103/103 [00:00<00:00, 126.20it/s, loss=84.6, cosine=0.223]\n"
     ]
    },
    {
     "name": "stdout",
     "output_type": "stream",
     "text": [
      "Epoch 21/50: Train Loss = 86.8325, Train Cosine = 0.1997, Val Loss = 82.8798, Val Cosine = 0.1041\n",
      "Saved best model checkpoint for fold 2 (Val Cosine: 0.1041).\n"
     ]
    },
    {
     "name": "stderr",
     "output_type": "stream",
     "text": [
      "Fold 2, Epoch 22/50: 100%|██████████████████████████████████████████████████████████████████████████████████████████████████████████████████████████| 103/103 [00:00<00:00, 125.96it/s, loss=92.2, cosine=0.181]\n"
     ]
    },
    {
     "name": "stdout",
     "output_type": "stream",
     "text": [
      "Epoch 22/50: Train Loss = 86.7593, Train Cosine = 0.2053, Val Loss = 83.1313, Val Cosine = 0.0816\n"
     ]
    },
    {
     "name": "stderr",
     "output_type": "stream",
     "text": [
      "Fold 2, Epoch 23/50: 100%|██████████████████████████████████████████████████████████████████████████████████████████████████████████████████████████| 103/103 [00:00<00:00, 127.30it/s, loss=68.8, cosine=0.252]\n"
     ]
    },
    {
     "name": "stdout",
     "output_type": "stream",
     "text": [
      "Epoch 23/50: Train Loss = 86.7247, Train Cosine = 0.2059, Val Loss = 82.8614, Val Cosine = 0.1040\n"
     ]
    },
    {
     "name": "stderr",
     "output_type": "stream",
     "text": [
      "Fold 2, Epoch 24/50: 100%|██████████████████████████████████████████████████████████████████████████████████████████████████████████████████████████| 103/103 [00:00<00:00, 123.18it/s, loss=98.1, cosine=0.163]\n"
     ]
    },
    {
     "name": "stdout",
     "output_type": "stream",
     "text": [
      "Epoch 24/50: Train Loss = 86.6421, Train Cosine = 0.2120, Val Loss = 83.1553, Val Cosine = 0.0810\n"
     ]
    },
    {
     "name": "stderr",
     "output_type": "stream",
     "text": [
      "Fold 2, Epoch 25/50: 100%|██████████████████████████████████████████████████████████████████████████████████████████████████████████████████████████| 103/103 [00:00<00:00, 125.18it/s, loss=79.8, cosine=0.146]\n"
     ]
    },
    {
     "name": "stdout",
     "output_type": "stream",
     "text": [
      "Epoch 25/50: Train Loss = 86.5965, Train Cosine = 0.2139, Val Loss = 82.8907, Val Cosine = 0.0963\n"
     ]
    },
    {
     "name": "stderr",
     "output_type": "stream",
     "text": [
      "Fold 2, Epoch 26/50: 100%|████████████████████████████████████████████████████████████████████████████████████████████████████████████████████████████| 103/103 [00:00<00:00, 125.74it/s, loss=86, cosine=0.196]\n"
     ]
    },
    {
     "name": "stdout",
     "output_type": "stream",
     "text": [
      "Epoch 26/50: Train Loss = 86.5394, Train Cosine = 0.2167, Val Loss = 83.2373, Val Cosine = 0.0768\n"
     ]
    },
    {
     "name": "stderr",
     "output_type": "stream",
     "text": [
      "Fold 2, Epoch 27/50: 100%|████████████████████████████████████████████████████████████████████████████████████████████████████████████████████████████| 103/103 [00:00<00:00, 112.21it/s, loss=94, cosine=0.232]\n"
     ]
    },
    {
     "name": "stdout",
     "output_type": "stream",
     "text": [
      "Epoch 27/50: Train Loss = 86.4484, Train Cosine = 0.2226, Val Loss = 83.0672, Val Cosine = 0.0881\n"
     ]
    },
    {
     "name": "stderr",
     "output_type": "stream",
     "text": [
      "Fold 2, Epoch 28/50: 100%|██████████████████████████████████████████████████████████████████████████████████████████████████████████████████████████| 103/103 [00:00<00:00, 121.92it/s, loss=89.3, cosine=0.254]\n"
     ]
    },
    {
     "name": "stdout",
     "output_type": "stream",
     "text": [
      "Epoch 28/50: Train Loss = 86.3776, Train Cosine = 0.2261, Val Loss = 83.0710, Val Cosine = 0.0904\n"
     ]
    },
    {
     "name": "stderr",
     "output_type": "stream",
     "text": [
      "Fold 2, Epoch 29/50: 100%|████████████████████████████████████████████████████████████████████████████████████████████████████████████████████████████| 103/103 [00:00<00:00, 125.04it/s, loss=74, cosine=0.186]\n"
     ]
    },
    {
     "name": "stdout",
     "output_type": "stream",
     "text": [
      "Epoch 29/50: Train Loss = 86.3329, Train Cosine = 0.2279, Val Loss = 82.9566, Val Cosine = 0.0954\n"
     ]
    },
    {
     "name": "stderr",
     "output_type": "stream",
     "text": [
      "Fold 2, Epoch 30/50: 100%|██████████████████████████████████████████████████████████████████████████████████████████████████████████████████████████| 103/103 [00:00<00:00, 124.89it/s, loss=85.8, cosine=0.165]\n"
     ]
    },
    {
     "name": "stdout",
     "output_type": "stream",
     "text": [
      "Epoch 30/50: Train Loss = 86.2685, Train Cosine = 0.2316, Val Loss = 83.0672, Val Cosine = 0.0862\n"
     ]
    },
    {
     "name": "stderr",
     "output_type": "stream",
     "text": [
      "Fold 2, Epoch 31/50: 100%|██████████████████████████████████████████████████████████████████████████████████████████████████████████████████████████| 103/103 [00:00<00:00, 123.90it/s, loss=85.8, cosine=0.184]\n",
      "/var/folders/z7/qrc5k22j2qq05jzdksv8hd_00000gn/T/ipykernel_19736/1535775755.py:356: FutureWarning: You are using `torch.load` with `weights_only=False` (the current default value), which uses the default pickle module implicitly. It is possible to construct malicious pickle data which will execute arbitrary code during unpickling (See https://github.com/pytorch/pytorch/blob/main/SECURITY.md#untrusted-models for more details). In a future release, the default value for `weights_only` will be flipped to `True`. This limits the functions that could be executed during unpickling. Arbitrary objects will no longer be allowed to be loaded via this mode unless they are explicitly allowlisted by the user via `torch.serialization.add_safe_globals`. We recommend you start setting `weights_only=True` for any use case where you don't have full control of the loaded file. Please open an issue on GitHub for any issues related to this experimental feature.\n",
      "  model.load_state_dict(torch.load(f'best_pitom_model_fold{fold+1}.pt'))\n"
     ]
    },
    {
     "name": "stdout",
     "output_type": "stream",
     "text": [
      "Epoch 31/50: Train Loss = 86.2420, Train Cosine = 0.2325, Val Loss = 83.2370, Val Cosine = 0.0752\n",
      "Early stopping triggered after 31 epochs.\n",
      "Found 40 words with at least 5 repetitions (14.9% of unique words)\n"
     ]
    },
    {
     "name": "stderr",
     "output_type": "stream",
     "text": [
      "/var/folders/z7/qrc5k22j2qq05jzdksv8hd_00000gn/T/ipykernel_19736/1535775755.py:40: UserWarning: To copy construct from a tensor, it is recommended to use sourceTensor.clone().detach() or sourceTensor.clone().detach().requires_grad_(True), rather than torch.tensor(sourceTensor).\n",
      "  input_data = torch.tensor(X[i:i+1], dtype=torch.float32)\n"
     ]
    },
    {
     "name": "stdout",
     "output_type": "stream",
     "text": [
      "\n",
      "Fold 2 Test Results: Loss = 88.3153, Cosine Similarity = 0.0910\n"
     ]
    },
    {
     "data": {
      "image/png": "[encoded data removed]",
      "text/plain": [
       "<Figure size 1000x600 with 1 Axes>"
      ]
     },
     "metadata": {},
     "output_type": "display_data"
    },
    {
     "data": {
      "image/png": "[encoded data removed]",
      "text/plain": [
       "<Figure size 1500x500 with 2 Axes>"
      ]
     },
     "metadata": {},
     "output_type": "display_data"
    },
    {
     "name": "stdout",
     "output_type": "stream",
     "text": [
      "\n",
      "==================================================\n",
      "FOLD 3/5\n",
      "==================================================\n"
     ]
    },
    {
     "name": "stderr",
     "output_type": "stream",
     "text": [
      "Fold 3, Epoch 1/50: 100%|████████████████████████████████████████████████████████████████████████████████████████████████████████████████████████████| 92/92 [00:00<00:00, 135.06it/s, loss=87.4, cosine=0.0666]\n"
     ]
    },
    {
     "name": "stdout",
     "output_type": "stream",
     "text": [
      "Epoch 1/50: Train Loss = 89.9011, Train Cosine = 0.0329, Val Loss = 86.7438, Val Cosine = -0.0693\n",
      "Saved best model checkpoint for fold 3 (Val Cosine: -0.0693).\n"
     ]
    },
    {
     "name": "stderr",
     "output_type": "stream",
     "text": [
      "Fold 3, Epoch 2/50: 100%|█████████████████████████████████████████████████████████████████████████████████████████████████████████████████████████████| 92/92 [00:00<00:00, 129.71it/s, loss=106, cosine=0.0137]\n"
     ]
    },
    {
     "name": "stdout",
     "output_type": "stream",
     "text": [
      "Epoch 2/50: Train Loss = 89.7741, Train Cosine = 0.0391, Val Loss = 86.6608, Val Cosine = -0.0687\n",
      "Saved best model checkpoint for fold 3 (Val Cosine: -0.0687).\n"
     ]
    },
    {
     "name": "stderr",
     "output_type": "stream",
     "text": [
      "Fold 3, Epoch 3/50: 100%|████████████████████████████████████████████████████████████████████████████████████████████████████████████████████████████| 92/92 [00:00<00:00, 128.55it/s, loss=95.2, cosine=0.0586]\n"
     ]
    },
    {
     "name": "stdout",
     "output_type": "stream",
     "text": [
      "Epoch 3/50: Train Loss = 89.7482, Train Cosine = 0.0423, Val Loss = 86.6302, Val Cosine = -0.0737\n"
     ]
    },
    {
     "name": "stderr",
     "output_type": "stream",
     "text": [
      "Fold 3, Epoch 4/50: 100%|████████████████████████████████████████████████████████████████████████████████████████████████████████████████████████████| 92/92 [00:00<00:00, 117.05it/s, loss=96.3, cosine=0.0518]\n"
     ]
    },
    {
     "name": "stdout",
     "output_type": "stream",
     "text": [
      "Epoch 4/50: Train Loss = 89.6923, Train Cosine = 0.0482, Val Loss = 86.5818, Val Cosine = -0.0633\n",
      "Saved best model checkpoint for fold 3 (Val Cosine: -0.0633).\n"
     ]
    },
    {
     "name": "stderr",
     "output_type": "stream",
     "text": [
      "Fold 3, Epoch 5/50: 100%|████████████████████████████████████████████████████████████████████████████████████████████████████████████████████████████| 92/92 [00:00<00:00, 125.39it/s, loss=89.2, cosine=0.0511]\n"
     ]
    },
    {
     "name": "stdout",
     "output_type": "stream",
     "text": [
      "Epoch 5/50: Train Loss = 89.5007, Train Cosine = 0.0685, Val Loss = 86.4918, Val Cosine = -0.0439\n",
      "Saved best model checkpoint for fold 3 (Val Cosine: -0.0439).\n"
     ]
    },
    {
     "name": "stderr",
     "output_type": "stream",
     "text": [
      "Fold 3, Epoch 6/50: 100%|█████████████████████████████████████████████████████████████████████████████████████████████████████████████████████████████| 92/92 [00:00<00:00, 125.13it/s, loss=99.8, cosine=0.105]\n"
     ]
    },
    {
     "name": "stdout",
     "output_type": "stream",
     "text": [
      "Epoch 6/50: Train Loss = 89.2657, Train Cosine = 0.0912, Val Loss = 86.0997, Val Cosine = -0.0022\n",
      "Saved best model checkpoint for fold 3 (Val Cosine: -0.0022).\n"
     ]
    },
    {
     "name": "stderr",
     "output_type": "stream",
     "text": [
      "Fold 3, Epoch 7/50: 100%|█████████████████████████████████████████████████████████████████████████████████████████████████████████████████████████████| 92/92 [00:00<00:00, 116.22it/s, loss=91.1, cosine=0.161]\n"
     ]
    },
    {
     "name": "stdout",
     "output_type": "stream",
     "text": [
      "Epoch 7/50: Train Loss = 89.0817, Train Cosine = 0.1072, Val Loss = 86.0867, Val Cosine = 0.0027\n",
      "Saved best model checkpoint for fold 3 (Val Cosine: 0.0027).\n"
     ]
    },
    {
     "name": "stderr",
     "output_type": "stream",
     "text": [
      "Fold 3, Epoch 8/50:  26%|████████████████████████████████▌                                                                                            | 24/92 [00:00<00:00, 112.23it/s, loss=92.5, cosine=0.118]"
     ]
    }
   ],
   "source": [
    "# Train model across 5 different lags and plot the results.\n",
    "# For each lag: \n",
    "#  build neural data around that lag\n",
    "#  for each fold:\n",
    "#    maybe evaluate which electrodes are significant\n",
    "#    run training (maybe get ensemble model)\n",
    "#    evaluate model over ROC-AUC\n",
    "lags = np.arange(-900, 1000, 100)\n",
    "weighted_roc_means = []\n",
    "for lag in lags:\n",
    "    # Maybe make it so only words in all lags are included.\n",
    "    print('running lag:', lag)\n",
    "    X, Y, selected_words = get_data(lag)\n",
    "\n",
    "    X_tensor = torch.FloatTensor(X)\n",
    "    Y_tensor = torch.FloatTensor(Y)\n",
    "    \n",
    "    print(f\"X_tensor shape: {X_tensor.shape}, Y_tensor shape: {Y_tensor.shape}\")\n",
    "    \n",
    "    models, histories, cv_results, roc_results, weighted_roc_mean = train_pitom_model_cv(\n",
    "        X_tensor, Y_tensor, selected_words,\n",
    "        model_params={\n",
    "            'conv_filters': 128,\n",
    "            'reg': 0.35,\n",
    "            'reg_head': 0,\n",
    "            'dropout': 0.2\n",
    "        },\n",
    "        training_params={\n",
    "            'batch_size': 32,\n",
    "            'epochs': 50,\n",
    "            'learning_rate': 0.001,\n",
    "            'weight_decay': 0.0001,\n",
    "            'early_stopping_patience': 10,\n",
    "            'n_folds': 5\n",
    "        }\n",
    "    )\n",
    "    weighted_roc_means.append(weighted_roc_mean)"
   ]
  },
  {
   "cell_type": "code",
   "execution_count": 171,
   "id": "56573870-fc97-4299-9d64-6ae2ebb64b03",
   "metadata": {},
   "outputs": [
    {
     "data": {
      "image/png": "[encoded data removed]",
      "text/plain": [
       "<Figure size 640x480 with 1 Axes>"
      ]
     },
     "metadata": {},
     "output_type": "display_data"
    }
   ],
   "source": [
    "plt.plot(lags, weighted_roc_means, label='GPT-2')\n",
    "plt.plot(lags, weighted_roc_means_arbitrary, label='Arbitrary Embeddings')\n",
    "plt.axvline(0, color='red', alpha=0.5)\n",
    "plt.xlabel('Lags (ms)')\n",
    "plt.ylabel('AUC-ROC')\n",
    "plt.title('AUC-ROC as a function of Lags')\n",
    "plt.legend()\n",
    "plt.show()"
   ]
  },
  {
   "cell_type": "code",
   "execution_count": null,
   "id": "d08bb206-f20d-44e6-8819-0a0b6c95b4f7",
   "metadata": {},
   "outputs": [],
   "source": [
    "# Train model across 5 different lags and plot the results.\n",
    "# For each lag: \n",
    "#  build neural data around that lag\n",
    "#  for each fold:\n",
    "#    maybe evaluate which electrodes are significant\n",
    "#    run training (maybe get ensemble model)\n",
    "#    evaluate model over ROC-AUC\n",
    "lags = np.arange(-900, 1000, 100)\n",
    "weighted_roc_means_arbitrary = []\n",
    "for lag in lags:\n",
    "    # Maybe make it so only words in all lags are included.\n",
    "    print('running lag:', lag)\n",
    "    X, Y_old, selected_words = get_data(lag)\n",
    "    # Replace Y with arbitrary embeddings\n",
    "    unique_words = list(set(selected_words))\n",
    "    word_to_idx = {}\n",
    "    for i, word in enumerate(selected_words):\n",
    "        if word not in word_to_idx:\n",
    "            word_to_idx[word] = []\n",
    "        word_to_idx[word].append(i)\n",
    "        \n",
    "    arbitrary_embeddings = np.random.uniform(low=-1.0, high=1.0, size=(len(unique_words), 50))\n",
    "    Y_arb = np.zeros((Y_old.shape[0], 50))\n",
    "    for i, word in enumerate(unique_words):\n",
    "        for idx in word_to_idx[word]:\n",
    "            Y_arb[idx] = arbitrary_embeddings[i]\n",
    "\n",
    "    X_tensor = torch.FloatTensor(X)\n",
    "    Y_tensor = torch.FloatTensor(Y_arb)\n",
    "    \n",
    "    print(f\"X_tensor shape: {X_tensor.shape}, Y_tensor shape: {Y_tensor.shape}\")\n",
    "    \n",
    "    models_arb, histories_arb, cv_results_arb, roc_results_arb, weighted_roc_mean_arb = train_pitom_model_cv(\n",
    "        X_tensor, Y_tensor, selected_words,\n",
    "        model_params={\n",
    "            'conv_filters': 128,\n",
    "            'reg': 0.35,\n",
    "            'reg_head': 0,\n",
    "            'dropout': 0.2\n",
    "        },\n",
    "        training_params={\n",
    "            'batch_size': 32,\n",
    "            'epochs': 50,\n",
    "            'learning_rate': 0.001,\n",
    "            'weight_decay': 0.0001,\n",
    "            'early_stopping_patience': 10,\n",
    "            'n_folds': 5\n",
    "        }\n",
    "    )\n",
    "    weighted_roc_means_arbitrary.append(weighted_roc_mean_arb)"
   ]
  },
  {
   "cell_type": "code",
   "execution_count": 160,
   "id": "f27854d0-2d0e-4284-8370-e08890d37669",
   "metadata": {},
   "outputs": [],
   "source": []
  },
  {
   "cell_type": "code",
   "execution_count": 162,
   "id": "bcf3fc44-3b7d-4488-98f3-0c3fb3bc3a23",
   "metadata": {},
   "outputs": [],
   "source": []
  },
  {
   "cell_type": "code",
   "execution_count": 164,
   "id": "8dabaa2e-d328-47e6-b466-b8f93f85f99c",
   "metadata": {},
   "outputs": [],
   "source": []
  },
  {
   "cell_type": "code",
   "execution_count": null,
   "id": "db68eae6-1e2b-4956-b460-823518c4b016",
   "metadata": {},
   "outputs": [],
   "source": []
  }
 ],
 "metadata": {
  "kernelspec": {
   "display_name": "Python 3 (ipykernel)",
   "language": "python",
   "name": "python3"
  },
  "language_info": {
   "codemirror_mode": {
    "name": "ipython",
    "version": 3
   },
   "file_extension": ".py",
   "mimetype": "text/x-python",
   "name": "python",
   "nbconvert_exporter": "python",
   "pygments_lexer": "ipython3",
   "version": "3.10.15"
  }
 },
 "nbformat": 4,
 "nbformat_minor": 5
}
